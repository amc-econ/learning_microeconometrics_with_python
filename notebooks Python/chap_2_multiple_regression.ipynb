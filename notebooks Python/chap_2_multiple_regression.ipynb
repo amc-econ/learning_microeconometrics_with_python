{
 "cells": [
  {
   "cell_type": "markdown",
   "metadata": {},
   "source": [
    "# Chapter 2 - Multiple regression"
   ]
  },
  {
   "cell_type": "markdown",
   "metadata": {
    "toc": true
   },
   "source": [
    "<h1>Table of Contents<span class=\"tocSkip\"></span></h1>\n",
    "<div class=\"toc\"><ul class=\"toc-item\"><li><span><a href=\"#2.2.4-Simulation-with-Multiple-Explanatory-Variables\" data-toc-modified-id=\"2.2.4-Simulation-with-Multiple-Explanatory-Variables-1\">2.2.4 Simulation with Multiple Explanatory Variables</a></span></li><li><span><a href=\"#2.2.5-Matrix-algebra-of-Short-Regression\" data-toc-modified-id=\"2.2.5-Matrix-algebra-of-Short-Regression-2\">2.2.5 Matrix algebra of Short Regression</a></span></li><li><span><a href=\"#2.3.2-Understand-multicollinearity-with-Python\" data-toc-modified-id=\"2.3.2-Understand-multicollinearity-with-Python-3\">2.3.2 Understand multicollinearity with Python</a></span></li><li><span><a href=\"#2.4.2-NLSM-data\" data-toc-modified-id=\"2.4.2-NLSM-data-4\">2.4.2 NLSM data</a></span></li><li><span><a href=\"#2.4.3-OLS-estimates-of-returns-to-schooling\" data-toc-modified-id=\"2.4.3-OLS-estimates-of-returns-to-schooling-5\">2.4.3 OLS estimates of returns to schooling</a></span></li><li><span><a href=\"#2.5.2-Simulation-of-Dual-Path-Model\" data-toc-modified-id=\"2.5.2-Simulation-of-Dual-Path-Model-6\">2.5.2 Simulation of Dual Path Model</a></span></li><li><span><a href=\"#2.5.3-Dual-path-estimator-versus-long-regression\" data-toc-modified-id=\"2.5.3-Dual-path-estimator-versus-long-regression-7\">2.5.3 Dual path estimator versus long regression</a></span></li></ul></div>"
   ]
  },
  {
   "cell_type": "markdown",
   "metadata": {},
   "source": [
    "## 2.2.4 Simulation with Multiple Explanatory Variables"
   ]
  },
  {
   "cell_type": "code",
   "execution_count": 2,
   "metadata": {},
   "outputs": [],
   "source": [
    "# as in chapter 1, we use numpy\n",
    "import numpy as np"
   ]
  },
  {
   "cell_type": "code",
   "execution_count": 3,
   "metadata": {},
   "outputs": [],
   "source": [
    "# remove Python warnings\n",
    "import warnings\n",
    "warnings.filterwarnings(\"ignore\")"
   ]
  },
  {
   "cell_type": "markdown",
   "metadata": {},
   "source": [
    "We generate the data using a custom function, which allows to change the alpha parameter easily and avoid repetitions in code."
   ]
  },
  {
   "cell_type": "code",
   "execution_count": 4,
   "metadata": {},
   "outputs": [],
   "source": [
    "np.random.seed(123456789)\n",
    "    \n",
    "N = 1000\n",
    "a = 2\n",
    "b = 3\n",
    "c = 4\n",
    "\n",
    "# create a vector where the observed characteristic, x, is drawn \n",
    "# from a uniform distribution\n",
    "u_x = np.random.normal(size = N)\n",
    "\n",
    "# create a vector for the unobserved characteristic, u, from\n",
    "# a standard normal distribution\n",
    "u = np.random.normal(size = N)"
   ]
  },
  {
   "cell_type": "code",
   "execution_count": 5,
   "metadata": {},
   "outputs": [],
   "source": [
    "def generate_data(alpha):\n",
    "    \"\"\"\n",
    "    * x and w are two random vectors\n",
    "    * alpha is the common factor affecting both x and y\n",
    "    * u is a vector for the unobserved characteristic, drawn from a standard normal distribution\n",
    "    * y = a + b*x + c*w + u\n",
    "    \"\"\"\n",
    "    \n",
    "    # we generate two random vectors\n",
    "    x = (1-alpha) * np.random.rand(N) + alpha * u_x\n",
    "    w = (1-alpha) * np.random.rand(N) + alpha * u_x\n",
    "\n",
    "    # create a vector y\n",
    "    y = a + b*x + c*w + u\n",
    "    \n",
    "    return x, w, y, u"
   ]
  },
  {
   "cell_type": "markdown",
   "metadata": {},
   "source": [
    "We now perform the regressions:"
   ]
  },
  {
   "cell_type": "code",
   "execution_count": 6,
   "metadata": {},
   "outputs": [
    {
     "name": "stdout",
     "output_type": "stream",
     "text": [
      "Data generated in the case where alpha = 0:\n"
     ]
    },
    {
     "data": {
      "text/html": [
       "<div>\n",
       "<style scoped>\n",
       "    .dataframe tbody tr th:only-of-type {\n",
       "        vertical-align: middle;\n",
       "    }\n",
       "\n",
       "    .dataframe tbody tr th {\n",
       "        vertical-align: top;\n",
       "    }\n",
       "\n",
       "    .dataframe thead th {\n",
       "        text-align: right;\n",
       "    }\n",
       "</style>\n",
       "<table border=\"1\" class=\"dataframe\">\n",
       "  <thead>\n",
       "    <tr style=\"text-align: right;\">\n",
       "      <th></th>\n",
       "      <th>y</th>\n",
       "      <th>x</th>\n",
       "      <th>w</th>\n",
       "    </tr>\n",
       "  </thead>\n",
       "  <tbody>\n",
       "    <tr>\n",
       "      <th>0</th>\n",
       "      <td>7.470321</td>\n",
       "      <td>0.582073</td>\n",
       "      <td>0.823888</td>\n",
       "    </tr>\n",
       "    <tr>\n",
       "      <th>1</th>\n",
       "      <td>7.001981</td>\n",
       "      <td>0.675397</td>\n",
       "      <td>0.707480</td>\n",
       "    </tr>\n",
       "    <tr>\n",
       "      <th>2</th>\n",
       "      <td>2.837512</td>\n",
       "      <td>0.302488</td>\n",
       "      <td>0.139083</td>\n",
       "    </tr>\n",
       "    <tr>\n",
       "      <th>3</th>\n",
       "      <td>3.720985</td>\n",
       "      <td>0.361286</td>\n",
       "      <td>0.079521</td>\n",
       "    </tr>\n",
       "    <tr>\n",
       "      <th>4</th>\n",
       "      <td>6.084485</td>\n",
       "      <td>0.376386</td>\n",
       "      <td>0.898978</td>\n",
       "    </tr>\n",
       "  </tbody>\n",
       "</table>\n",
       "</div>"
      ],
      "text/plain": [
       "          y         x         w\n",
       "0  7.470321  0.582073  0.823888\n",
       "1  7.001981  0.675397  0.707480\n",
       "2  2.837512  0.302488  0.139083\n",
       "3  3.720985  0.361286  0.079521\n",
       "4  6.084485  0.376386  0.898978"
      ]
     },
     "metadata": {},
     "output_type": "display_data"
    }
   ],
   "source": [
    "# using statsmodels and pandas\n",
    "import statsmodels.formula.api as sm\n",
    "from statsmodels.iolib.summary2 import summary_col\n",
    "import pandas as pd\n",
    "\n",
    "# independant variables\n",
    "x, w, y, u = generate_data(alpha=0)\n",
    "df = pd.DataFrame({'y': y, 'x': x, 'w':w})\n",
    "reg1 = sm.ols(formula=\"y ~ x\", data=df).fit()\n",
    "reg2 = sm.ols(formula=\"y ~ x + w\", data=df).fit()\n",
    "\n",
    "# we show the data generated in this case\n",
    "print('Data generated in the case where alpha = 0:')\n",
    "display(df.head())\n",
    "\n",
    "# slightly dependant variables\n",
    "x, w, y, u = generate_data(alpha=0.5)\n",
    "df = pd.DataFrame({'y': y, 'x': x, 'w':w})\n",
    "reg3 = sm.ols(formula=\"y ~ x\", data=df).fit()\n",
    "reg4 = sm.ols(formula=\"y ~ x + w\", data=df).fit()\n",
    "\n",
    "# highly dependant variables\n",
    "x, w, y, u = generate_data(alpha=0.95)\n",
    "df = pd.DataFrame({'y': y, 'x': x, 'w':w})\n",
    "reg5 = sm.ols(formula=\"y ~ x\", data=df).fit()\n",
    "reg6 = sm.ols(formula=\"y ~ x + w\", data=df).fit()"
   ]
  },
  {
   "cell_type": "markdown",
   "metadata": {},
   "source": [
    "And we display the results in a summary table:"
   ]
  },
  {
   "cell_type": "code",
   "execution_count": 7,
   "metadata": {},
   "outputs": [
    {
     "name": "stdout",
     "output_type": "stream",
     "text": [
      "\n",
      "=========================================================\n",
      "            (1)     (2)     (3)     (4)     (5)     (6)  \n",
      "---------------------------------------------------------\n",
      "Intercept 4.05*** 1.97*** 2.06*** 1.97*** 2.00*** 2.00***\n",
      "          (0.10)  (0.09)  (0.05)  (0.04)  (0.03)  (0.03) \n",
      "R-squared 0.22    0.66    0.88    0.92    0.98    0.98   \n",
      "          0.23    0.66    0.88    0.92    0.98    0.98   \n",
      "w                 4.05***         3.88***         5.08***\n",
      "                  (0.11)          (0.16)          (1.61) \n",
      "x         2.90*** 3.00*** 6.76*** 3.23*** 7.06*** 1.98   \n",
      "          (0.17)  (0.11)  (0.08)  (0.16)  (0.04)  (1.61) \n",
      "N         1000    1000    1000    1000    1000    1000   \n",
      "R2        0.23    0.66    0.88    0.92    0.98    0.98   \n",
      "=========================================================\n",
      "Standard errors in parentheses.\n",
      "* p<.1, ** p<.05, ***p<.01\n"
     ]
    }
   ],
   "source": [
    "print(summary_col([reg1,reg2,reg3,reg4,reg5,reg6],\n",
    "                  stars=True,\n",
    "                  float_format='%0.2f',\n",
    "                  model_names=['(1)','(2)','(3)','(4)','(5)','(6)'],\n",
    "                  info_dict={'N':lambda x: \"{0:d}\".format(int(x.nobs)),\n",
    "                             'R2':lambda x: \"{:.2f}\".format(x.rsquared)}\n",
    "            ))"
   ]
  },
  {
   "cell_type": "markdown",
   "metadata": {},
   "source": [
    "**Other libraries:**\n",
    "\n",
    "* There is also now `Stargazer` for Python, in order to have publication ready statistical tables written direclty in $\\LaTeX$: https://github.com/mwburke/stargazer/\n",
    "\n",
    "* As regards `Sklearn`, there are no statistical/R like regression reports, because it is a library focusing mostly on machine learning for prediction (rather than inference)"
   ]
  },
  {
   "cell_type": "markdown",
   "metadata": {},
   "source": [
    "## 2.2.5 Matrix algebra of Short Regression"
   ]
  },
  {
   "cell_type": "code",
   "execution_count": 8,
   "metadata": {},
   "outputs": [
    {
     "name": "stdout",
     "output_type": "stream",
     "text": [
      "cov(x1, y1)= -0.0019642263218963584\n",
      "cov(x2, y2)= 0.2369600587922648\n"
     ]
    }
   ],
   "source": [
    "x1, w1, y1, u = generate_data(alpha=0)\n",
    "x2, w2, y2, u = generate_data(alpha=0.5)\n",
    "print('cov(x1, y1)=',np.cov(x1, w1)[0][1])\n",
    "print('cov(x2, y2)=',np.cov(x2, w2)[0][1])\n",
    "# in numpy, np.cov returns a matrix whose 1st element is cov(a,b)"
   ]
  },
  {
   "cell_type": "code",
   "execution_count": 9,
   "metadata": {},
   "outputs": [
    {
     "data": {
      "text/plain": [
       "292.38417829186983"
      ]
     },
     "execution_count": 9,
     "metadata": {},
     "output_type": "execute_result"
    }
   ],
   "source": [
    "# np.dot for matrix multiplication in Python\n",
    "# X.T to transpose the matrix X\n",
    "np.dot(x2.T,w2)"
   ]
  },
  {
   "cell_type": "markdown",
   "metadata": {},
   "source": [
    "## 2.3.2 Understand multicollinearity with Python"
   ]
  },
  {
   "cell_type": "code",
   "execution_count": 10,
   "metadata": {},
   "outputs": [
    {
     "name": "stdout",
     "output_type": "stream",
     "text": [
      "[  0.0116687   10.96966977 -10.9596755 ]\n",
      "u = -0.002643049742088632\n",
      "cov(x3,u) = 0.049929881344282855\n",
      "cov(w3,u) = 0.04902303628054247\n"
     ]
    }
   ],
   "source": [
    "from numpy.linalg import inv\n",
    "from numpy.linalg import solve\n",
    "\n",
    "x3, w3, y3, u = generate_data(alpha=0.95)\n",
    "\n",
    "X2 = pd.DataFrame({'': 1, 'x3': x3, 'w3':w3})\n",
    "\n",
    "solution = solve(a= X2.T.dot(X2), b = inv(X2.T.dot(X2))).dot(X2.T).dot(u)\n",
    "\n",
    "print(solution)\n",
    "print('u =',np.mean(u))\n",
    "print('cov(x3,u) =',np.cov(x3,u)[0][1])\n",
    "print('cov(w3,u) =',np.cov(w3,u)[0][1])"
   ]
  },
  {
   "cell_type": "code",
   "execution_count": 11,
   "metadata": {},
   "outputs": [
    {
     "name": "stdout",
     "output_type": "stream",
     "text": [
      "     -0.002643\n",
      "x3    0.049855\n",
      "w3    0.048946\n",
      "dtype: float64\n"
     ]
    }
   ],
   "source": [
    "print((1/N)*X2.T.dot(u))"
   ]
  },
  {
   "cell_type": "code",
   "execution_count": 12,
   "metadata": {},
   "outputs": [
    {
     "data": {
      "text/plain": [
       "2.8434330942932345e-06"
      ]
     },
     "execution_count": 12,
     "metadata": {},
     "output_type": "execute_result"
    }
   ],
   "source": [
    "# get the reciprocal determinant of the matrix\n",
    "1/np.linalg.det(X2.T.dot(X2))"
   ]
  },
  {
   "cell_type": "markdown",
   "metadata": {},
   "source": [
    "## 2.4.2 NLSM data"
   ]
  },
  {
   "cell_type": "code",
   "execution_count": 13,
   "metadata": {},
   "outputs": [
    {
     "data": {
      "text/html": [
       "<div>\n",
       "<style scoped>\n",
       "    .dataframe tbody tr th:only-of-type {\n",
       "        vertical-align: middle;\n",
       "    }\n",
       "\n",
       "    .dataframe tbody tr th {\n",
       "        vertical-align: top;\n",
       "    }\n",
       "\n",
       "    .dataframe thead th {\n",
       "        text-align: right;\n",
       "    }\n",
       "</style>\n",
       "<table border=\"1\" class=\"dataframe\">\n",
       "  <thead>\n",
       "    <tr style=\"text-align: right;\">\n",
       "      <th></th>\n",
       "      <th>id</th>\n",
       "      <th>nearc2</th>\n",
       "      <th>nearc4</th>\n",
       "      <th>nearc4a</th>\n",
       "      <th>nearc4b</th>\n",
       "      <th>ed76</th>\n",
       "      <th>ed66</th>\n",
       "      <th>age76</th>\n",
       "      <th>daded</th>\n",
       "      <th>nodaded</th>\n",
       "      <th>...</th>\n",
       "      <th>noint80</th>\n",
       "      <th>enroll76</th>\n",
       "      <th>enroll78</th>\n",
       "      <th>enroll80</th>\n",
       "      <th>kww</th>\n",
       "      <th>iq</th>\n",
       "      <th>marsta76</th>\n",
       "      <th>marsta78</th>\n",
       "      <th>marsta80</th>\n",
       "      <th>libcrd14</th>\n",
       "    </tr>\n",
       "  </thead>\n",
       "  <tbody>\n",
       "    <tr>\n",
       "      <th>0</th>\n",
       "      <td>2</td>\n",
       "      <td>0</td>\n",
       "      <td>0</td>\n",
       "      <td>0</td>\n",
       "      <td>0</td>\n",
       "      <td>7</td>\n",
       "      <td>5</td>\n",
       "      <td>29</td>\n",
       "      <td>9.94</td>\n",
       "      <td>1</td>\n",
       "      <td>...</td>\n",
       "      <td>0</td>\n",
       "      <td>0</td>\n",
       "      <td>0</td>\n",
       "      <td>0</td>\n",
       "      <td>15</td>\n",
       "      <td>.</td>\n",
       "      <td>1</td>\n",
       "      <td>1</td>\n",
       "      <td>1</td>\n",
       "      <td>0</td>\n",
       "    </tr>\n",
       "    <tr>\n",
       "      <th>1</th>\n",
       "      <td>3</td>\n",
       "      <td>0</td>\n",
       "      <td>0</td>\n",
       "      <td>0</td>\n",
       "      <td>0</td>\n",
       "      <td>12</td>\n",
       "      <td>11</td>\n",
       "      <td>27</td>\n",
       "      <td>8.00</td>\n",
       "      <td>0</td>\n",
       "      <td>...</td>\n",
       "      <td>0</td>\n",
       "      <td>0</td>\n",
       "      <td>0</td>\n",
       "      <td>0</td>\n",
       "      <td>35</td>\n",
       "      <td>93</td>\n",
       "      <td>1</td>\n",
       "      <td>4</td>\n",
       "      <td>4</td>\n",
       "      <td>1</td>\n",
       "    </tr>\n",
       "    <tr>\n",
       "      <th>2</th>\n",
       "      <td>4</td>\n",
       "      <td>0</td>\n",
       "      <td>0</td>\n",
       "      <td>0</td>\n",
       "      <td>0</td>\n",
       "      <td>12</td>\n",
       "      <td>12</td>\n",
       "      <td>34</td>\n",
       "      <td>14.00</td>\n",
       "      <td>0</td>\n",
       "      <td>...</td>\n",
       "      <td>1</td>\n",
       "      <td>0</td>\n",
       "      <td>.</td>\n",
       "      <td>.</td>\n",
       "      <td>42</td>\n",
       "      <td>103</td>\n",
       "      <td>1</td>\n",
       "      <td>.</td>\n",
       "      <td>.</td>\n",
       "      <td>1</td>\n",
       "    </tr>\n",
       "    <tr>\n",
       "      <th>3</th>\n",
       "      <td>5</td>\n",
       "      <td>1</td>\n",
       "      <td>1</td>\n",
       "      <td>1</td>\n",
       "      <td>0</td>\n",
       "      <td>11</td>\n",
       "      <td>11</td>\n",
       "      <td>27</td>\n",
       "      <td>11.00</td>\n",
       "      <td>0</td>\n",
       "      <td>...</td>\n",
       "      <td>0</td>\n",
       "      <td>0</td>\n",
       "      <td>.</td>\n",
       "      <td>0</td>\n",
       "      <td>25</td>\n",
       "      <td>88</td>\n",
       "      <td>1</td>\n",
       "      <td>.</td>\n",
       "      <td>5</td>\n",
       "      <td>1</td>\n",
       "    </tr>\n",
       "    <tr>\n",
       "      <th>4</th>\n",
       "      <td>6</td>\n",
       "      <td>1</td>\n",
       "      <td>1</td>\n",
       "      <td>1</td>\n",
       "      <td>0</td>\n",
       "      <td>12</td>\n",
       "      <td>12</td>\n",
       "      <td>34</td>\n",
       "      <td>8.00</td>\n",
       "      <td>0</td>\n",
       "      <td>...</td>\n",
       "      <td>1</td>\n",
       "      <td>0</td>\n",
       "      <td>0</td>\n",
       "      <td>.</td>\n",
       "      <td>34</td>\n",
       "      <td>108</td>\n",
       "      <td>1</td>\n",
       "      <td>1</td>\n",
       "      <td>.</td>\n",
       "      <td>0</td>\n",
       "    </tr>\n",
       "  </tbody>\n",
       "</table>\n",
       "<p>5 rows × 52 columns</p>\n",
       "</div>"
      ],
      "text/plain": [
       "   id  nearc2  nearc4  nearc4a  nearc4b  ed76  ed66  age76  daded  nodaded  \\\n",
       "0   2       0       0        0        0     7     5     29   9.94        1   \n",
       "1   3       0       0        0        0    12    11     27   8.00        0   \n",
       "2   4       0       0        0        0    12    12     34  14.00        0   \n",
       "3   5       1       1        1        0    11    11     27  11.00        0   \n",
       "4   6       1       1        1        0    12    12     34   8.00        0   \n",
       "\n",
       "   ...  noint80  enroll76  enroll78  enroll80  kww   iq  marsta76  marsta78  \\\n",
       "0  ...        0         0         0         0   15    .         1         1   \n",
       "1  ...        0         0         0         0   35   93         1         4   \n",
       "2  ...        1         0         .         .   42  103         1         .   \n",
       "3  ...        0         0         .         0   25   88         1         .   \n",
       "4  ...        1         0         0         .   34  108         1         1   \n",
       "\n",
       "   marsta80  libcrd14  \n",
       "0         1         0  \n",
       "1         4         1  \n",
       "2         .         1  \n",
       "3         5         1  \n",
       "4         .         0  \n",
       "\n",
       "[5 rows x 52 columns]"
      ]
     },
     "execution_count": 13,
     "metadata": {},
     "output_type": "execute_result"
    }
   ],
   "source": [
    "x = pd.read_csv('../data/nls.csv')\n",
    "x.head()"
   ]
  },
  {
   "cell_type": "code",
   "execution_count": 14,
   "metadata": {},
   "outputs": [],
   "source": [
    "# We define a bunch of functions to clean the data\n",
    "# in an organised fashion\n",
    "\n",
    "def convert_col_to_numeric(df, col):\n",
    "    df[col] = pd.to_numeric(df[col], errors = 'coerce')\n",
    "    return df\n",
    "\n",
    "def remove_missing(df, col):\n",
    "    condition = df[col].isna() == False\n",
    "    return df[condition]\n",
    "\n",
    "def get_working_years_after_school(df):\n",
    "    \"\"\"\n",
    "    We create new variables:\n",
    "    * exp: experience after school\n",
    "    * exp2: experience squared divided by 100\n",
    "    \"\"\"\n",
    "    df['exp'] = df['age76']-df['ed76']-6\n",
    "    df['exp2'] = df['exp']**2/100 \n",
    "    # in Python **2 means squared\n",
    "    return df"
   ]
  },
  {
   "cell_type": "code",
   "execution_count": 15,
   "metadata": {},
   "outputs": [],
   "source": [
    "# and we perform the data cleaning using the .pipe operator\n",
    "# on the original dataset x\n",
    "\n",
    "x1 = (\n",
    "    x\n",
    "    .pipe(convert_col_to_numeric, col = 'wage76')\n",
    "    .pipe(convert_col_to_numeric, col = 'lwage76')\n",
    "    .pipe(remove_missing, col = 'lwage76')\n",
    "    .pipe(get_working_years_after_school)\n",
    ")"
   ]
  },
  {
   "cell_type": "markdown",
   "metadata": {},
   "source": [
    "## 2.4.3 OLS estimates of returns to schooling"
   ]
  },
  {
   "cell_type": "code",
   "execution_count": 16,
   "metadata": {},
   "outputs": [],
   "source": [
    "lm1 = sm.ols(formula = \"lwage76 ~ ed76\", data=x1).fit()\n",
    "lm2 = sm.ols(formula = \"lwage76 ~ ed76 + exp + exp2\", data=x1).fit()\n",
    "lm3 = sm.ols(formula = \"lwage76 ~ ed76 + exp + exp2 + black + reg76r\", data=x1).fit()\n",
    "lm4 = sm.ols(formula = \"lwage76 ~ ed76 + exp + exp2 + black + reg76r + smsa76r + smsa66r + reg662 + reg663 + reg664 + reg665 + reg666 + reg667 + reg668 + reg669\", data=x1).fit()"
   ]
  },
  {
   "cell_type": "code",
   "execution_count": 17,
   "metadata": {},
   "outputs": [
    {
     "name": "stdout",
     "output_type": "stream",
     "text": [
      "\n",
      "====================================================\n",
      "             (1)       (2)        (3)        (4)    \n",
      "----------------------------------------------------\n",
      "Intercept 5.5709*** 4.4685***  4.7963***  4.6208*** \n",
      "          (0.0388)  (0.0687)   (0.0685)   (0.0742)  \n",
      "R-squared 0.0984    0.1950     0.2639     0.2963    \n",
      "          0.0987    0.1958     0.2651     0.2998    \n",
      "black                          -0.1780*** -0.1990***\n",
      "                               (0.0179)   (0.0182)  \n",
      "ed76      0.0521*** 0.0932***  0.0782***  0.0747*** \n",
      "          (0.0029)  (0.0036)   (0.0035)   (0.0035)  \n",
      "exp                 0.0898***  0.0851***  0.0848*** \n",
      "                    (0.0071)   (0.0068)   (0.0066)  \n",
      "exp2                -0.2486*** -0.2340*** -0.2287***\n",
      "                    (0.0338)   (0.0323)   (0.0317)  \n",
      "reg662                                    0.0964*** \n",
      "                                          (0.0359)  \n",
      "reg663                                    0.1445*** \n",
      "                                          (0.0351)  \n",
      "reg664                                    0.0551    \n",
      "                                          (0.0417)  \n",
      "reg665                                    0.1280*** \n",
      "                                          (0.0418)  \n",
      "reg666                                    0.1405*** \n",
      "                                          (0.0452)  \n",
      "reg667                                    0.1180*** \n",
      "                                          (0.0448)  \n",
      "reg668                                    -0.0564   \n",
      "                                          (0.0513)  \n",
      "reg669                                    0.1186*** \n",
      "                                          (0.0388)  \n",
      "reg76r                         -0.1505*** -0.1480***\n",
      "                               (0.0152)   (0.0260)  \n",
      "smsa66r                                   0.0262    \n",
      "                                          (0.0194)  \n",
      "smsa76r                                   0.1364*** \n",
      "                                          (0.0201)  \n",
      "N         3010      3010       3010       3010      \n",
      "R2        0.099     0.196      0.265      0.300     \n",
      "====================================================\n",
      "Standard errors in parentheses.\n",
      "* p<.1, ** p<.05, ***p<.01\n"
     ]
    }
   ],
   "source": [
    "print(summary_col([lm1,lm2,lm3,lm4],\n",
    "                  stars=True,\n",
    "                  float_format='%0.4f',\n",
    "                  model_names=['(1)','(2)','(3)','(4)'],\n",
    "                  info_dict={'N':lambda x: \"{0:d}\".format(int(x.nobs)),\n",
    "                             'R2':lambda x: \"{:.3f}\".format(x.rsquared)}\n",
    "            ))"
   ]
  },
  {
   "cell_type": "markdown",
   "metadata": {},
   "source": [
    "## 2.5.2 Simulation of Dual Path Model"
   ]
  },
  {
   "cell_type": "code",
   "execution_count": 18,
   "metadata": {},
   "outputs": [],
   "source": [
    "# generate random data\n",
    "\n",
    "import random\n",
    "np.random.seed(123456789)\n",
    "# again, this is a numpy seed with does not prevent numbers from \n",
    "# being different from the ones generated in the book with R\n",
    "\n",
    "N = 50\n",
    "a = 1\n",
    "b = 0\n",
    "c = 3\n",
    "d = 4\n",
    "\n",
    "# creating a vector of 0s and 1s\n",
    "x = np.round(np.random.rand(N))\n",
    "u_w = np.random.rand(N)\n",
    "w = d*x + u_w\n",
    "u = np.random.normal(size = N)\n",
    "y = a + b*x + c*w + u"
   ]
  },
  {
   "cell_type": "code",
   "execution_count": 19,
   "metadata": {},
   "outputs": [
    {
     "name": "stdout",
     "output_type": "stream",
     "text": [
      "\n",
      "==============================\n",
      "             (1)        (2)   \n",
      "------------------------------\n",
      "Intercept 2.0010***  1.0523***\n",
      "          (0.2805)   (0.2931) \n",
      "R-squared 0.9615     0.9748   \n",
      "          0.9623     0.9758   \n",
      "w                    2.5172***\n",
      "                     (0.4918) \n",
      "x         12.6761*** 2.2848   \n",
      "          (0.3621)   (2.0512) \n",
      "N         50         50       \n",
      "R2        0.962      0.976    \n",
      "==============================\n",
      "Standard errors in\n",
      "parentheses.\n",
      "* p<.1, ** p<.05, ***p<.01\n"
     ]
    }
   ],
   "source": [
    "data = pd.DataFrame({'y': y, 'x': x, 'w':w})\n",
    "lm_short = sm.ols(formula = \"y ~ x\", data=data).fit()\n",
    "lm_long = sm.ols(formula = \"y ~ x + w\", data=data).fit()\n",
    "\n",
    "print(summary_col([lm_short,lm_long],\n",
    "                  stars=True,\n",
    "                  float_format='%0.4f',\n",
    "                  model_names=['(1)','(2)'],\n",
    "                  info_dict={'N':lambda x: \"{0:d}\".format(int(x.nobs)),\n",
    "                             'R2':lambda x: \"{:.3f}\".format(x.rsquared)}\n",
    "            ))"
   ]
  },
  {
   "cell_type": "code",
   "execution_count": 20,
   "metadata": {},
   "outputs": [
    {
     "data": {
      "text/plain": [
       "0.04668582105119512"
      ]
     },
     "execution_count": 20,
     "metadata": {},
     "output_type": "execute_result"
    }
   ],
   "source": [
    "e_hat = sm.ols(formula = \"y ~ x\", data=data).fit().params['x']\n",
    "c_hat = sm.ols(formula = \"y ~ w\", data=data).fit().params['w']\n",
    "d_hat = sm.ols(formula = \"w ~ x\", data=data).fit().params['x']\n",
    "\n",
    "# estimate of b\n",
    "e_hat - c_hat*d_hat"
   ]
  },
  {
   "cell_type": "markdown",
   "metadata": {},
   "source": [
    "## 2.5.3 Dual path estimator versus long regression"
   ]
  },
  {
   "cell_type": "code",
   "execution_count": 21,
   "metadata": {},
   "outputs": [],
   "source": [
    "rows = []\n",
    "\n",
    "for i in range(0,100):\n",
    "    \n",
    "    # generate random data\n",
    "    x = np.round(np.random.rand(N))\n",
    "    u_w = np.random.rand(N)\n",
    "    w = d*x + u_w\n",
    "    u = np.random.normal(size = N)\n",
    "    y = a + b*x + c*w + u\n",
    "    # pack the variables in a dataframe\n",
    "    data = pd.DataFrame({'y': y, 'x': x, 'w':w})\n",
    "    # run a regression\n",
    "    lm2_temp = sm.ols(formula = \"y ~ x + w\", data=data).fit()\n",
    "    # coefficient of x\n",
    "    x = lm2_temp.params['x']\n",
    "    # T-stat of the coefficient on x\n",
    "    tt = lm2_temp.tvalues['x']\n",
    "    # proposed estimator\n",
    "    e_hat = sm.ols(formula = \"y ~ x\", data=data).fit().params['x']\n",
    "    c_hat = sm.ols(formula = \"y ~ w\", data=data).fit().params['w']\n",
    "    d_hat = sm.ols(formula = \"w ~ x\", data=data).fit().params['x']\n",
    "    estimator = e_hat - c_hat*d_hat\n",
    "    # store the values\n",
    "    rows.append([x,tt, estimator])\n",
    "    \n",
    "df = pd.DataFrame(rows, columns=['Standard Est.', 'T-Stat of Standard', 'Proposed Est.'])"
   ]
  },
  {
   "cell_type": "code",
   "execution_count": 22,
   "metadata": {},
   "outputs": [
    {
     "data": {
      "text/html": [
       "<div>\n",
       "<style scoped>\n",
       "    .dataframe tbody tr th:only-of-type {\n",
       "        vertical-align: middle;\n",
       "    }\n",
       "\n",
       "    .dataframe tbody tr th {\n",
       "        vertical-align: top;\n",
       "    }\n",
       "\n",
       "    .dataframe thead th {\n",
       "        text-align: right;\n",
       "    }\n",
       "</style>\n",
       "<table border=\"1\" class=\"dataframe\">\n",
       "  <thead>\n",
       "    <tr style=\"text-align: right;\">\n",
       "      <th></th>\n",
       "      <th>Standard Est.</th>\n",
       "      <th>T-Stat of Standard</th>\n",
       "      <th>Proposed Est.</th>\n",
       "    </tr>\n",
       "  </thead>\n",
       "  <tbody>\n",
       "    <tr>\n",
       "      <th>count</th>\n",
       "      <td>100.000000</td>\n",
       "      <td>100.000000</td>\n",
       "      <td>100.000000</td>\n",
       "    </tr>\n",
       "    <tr>\n",
       "      <th>mean</th>\n",
       "      <td>-0.027786</td>\n",
       "      <td>-0.002928</td>\n",
       "      <td>-0.000525</td>\n",
       "    </tr>\n",
       "    <tr>\n",
       "      <th>std</th>\n",
       "      <td>2.145449</td>\n",
       "      <td>1.084443</td>\n",
       "      <td>0.043137</td>\n",
       "    </tr>\n",
       "    <tr>\n",
       "      <th>min</th>\n",
       "      <td>-4.610712</td>\n",
       "      <td>-2.350682</td>\n",
       "      <td>-0.089071</td>\n",
       "    </tr>\n",
       "    <tr>\n",
       "      <th>25%</th>\n",
       "      <td>-1.564685</td>\n",
       "      <td>-0.789011</td>\n",
       "      <td>-0.029496</td>\n",
       "    </tr>\n",
       "    <tr>\n",
       "      <th>50%</th>\n",
       "      <td>-0.406267</td>\n",
       "      <td>-0.240068</td>\n",
       "      <td>-0.009528</td>\n",
       "    </tr>\n",
       "    <tr>\n",
       "      <th>75%</th>\n",
       "      <td>1.727499</td>\n",
       "      <td>0.881718</td>\n",
       "      <td>0.034190</td>\n",
       "    </tr>\n",
       "    <tr>\n",
       "      <th>max</th>\n",
       "      <td>4.419720</td>\n",
       "      <td>2.478646</td>\n",
       "      <td>0.091887</td>\n",
       "    </tr>\n",
       "  </tbody>\n",
       "</table>\n",
       "</div>"
      ],
      "text/plain": [
       "       Standard Est.  T-Stat of Standard  Proposed Est.\n",
       "count     100.000000          100.000000     100.000000\n",
       "mean       -0.027786           -0.002928      -0.000525\n",
       "std         2.145449            1.084443       0.043137\n",
       "min        -4.610712           -2.350682      -0.089071\n",
       "25%        -1.564685           -0.789011      -0.029496\n",
       "50%        -0.406267           -0.240068      -0.009528\n",
       "75%         1.727499            0.881718       0.034190\n",
       "max         4.419720            2.478646       0.091887"
      ]
     },
     "execution_count": 22,
     "metadata": {},
     "output_type": "execute_result"
    }
   ],
   "source": [
    "df.describe()"
   ]
  },
  {
   "cell_type": "code",
   "execution_count": 70,
   "metadata": {},
   "outputs": [
    {
     "data": {
      "image/png": "[encoded data removed]",
      "text/plain": [
       "<Figure size 432x432 with 1 Axes>"
      ]
     },
     "metadata": {},
     "output_type": "display_data"
    }
   ],
   "source": [
    "import seaborn as sns\n",
    "import matplotlib.pyplot as plt\n",
    "\n",
    "sns.set_style('white')\n",
    "\n",
    "plt.figure(figsize=(6,6))\n",
    "ax = sns.distplot(df['Standard Est.'],\n",
    "                  bins=[-6,-4,-2,0,2,4,6],\n",
    "                  color = 'grey')\n",
    "ax.set(xlabel='Estimate of b')\n",
    "plt.vlines(df['Proposed Est.'].min(),\n",
    "           0,\n",
    "           0.2,\n",
    "           colors='k',\n",
    "           linestyles='--',\n",
    "           label='',\n",
    "           data=None)\n",
    "plt.vlines(df['Proposed Est.'].max(),\n",
    "           0,\n",
    "           0.2,\n",
    "           colors='k',\n",
    "           linestyles='--',\n",
    "           label='',\n",
    "           data=None)\n",
    "\n",
    "# changing the axes styles to make them look like R\n",
    "ax.spines['right'].set_color('none')\n",
    "ax.spines['top'].set_color('none')\n",
    "ax.xaxis.set_ticks_position('bottom')\n",
    "\n",
    "ax.spines['bottom'].set_position(('axes', -0.02))\n",
    "ax.yaxis.set_ticks_position('left')\n",
    "ax.spines['left'].set_position(('axes', -0.02))\n",
    "ax.set_xlim([-6, 6])\n",
    "ax.set_ylim([0, 0.20])\n",
    "\n",
    "ax.xaxis.grid(False)\n",
    "ax.yaxis.grid(False)\n",
    "\n",
    "plt.show()"
   ]
  },
  {
   "cell_type": "code",
   "execution_count": null,
   "metadata": {},
   "outputs": [],
   "source": []
  }
 ],
 "metadata": {
  "kernelspec": {
   "display_name": "Python 3",
   "language": "python",
   "name": "python3"
  },
  "language_info": {
   "codemirror_mode": {
    "name": "ipython",
    "version": 3
   },
   "file_extension": ".py",
   "mimetype": "text/x-python",
   "name": "python",
   "nbconvert_exporter": "python",
   "pygments_lexer": "ipython3",
   "version": "3.7.6"
  },
  "toc": {
   "base_numbering": 1,
   "nav_menu": {},
   "number_sections": false,
   "sideBar": true,
   "skip_h1_title": true,
   "title_cell": "Table of Contents",
   "title_sidebar": "Contents",
   "toc_cell": true,
   "toc_position": {},
   "toc_section_display": true,
   "toc_window_display": false
  },
  "varInspector": {
   "cols": {
    "lenName": 16,
    "lenType": 16,
    "lenVar": 40
   },
   "kernels_config": {
    "python": {
     "delete_cmd_postfix": "",
     "delete_cmd_prefix": "del ",
     "library": "var_list.py",
     "varRefreshCmd": "print(var_dic_list())"
    },
    "r": {
     "delete_cmd_postfix": ") ",
     "delete_cmd_prefix": "rm(",
     "library": "var_list.r",
     "varRefreshCmd": "cat(var_dic_list()) "
    }
   },
   "types_to_exclude": [
    "module",
    "function",
    "builtin_function_or_method",
    "instance",
    "_Feature"
   ],
   "window_display": false
  }
 },
 "nbformat": 4,
 "nbformat_minor": 4
}

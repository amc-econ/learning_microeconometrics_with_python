{
 "cells": [
  {
   "cell_type": "markdown",
   "metadata": {},
   "source": [
    "# Chapter 1 - Ordinary Least Squares (OLS)"
   ]
  },
  {
   "cell_type": "markdown",
   "metadata": {
    "toc": true
   },
   "source": [
    "<h1>Table of Contents<span class=\"tocSkip\"></span></h1>\n",
    "<div class=\"toc\"><ul class=\"toc-item\"><li><span><a href=\"#1.2.3-Simulation-of-the-causal-effect\" data-toc-modified-id=\"1.2.3-Simulation-of-the-causal-effect-1\">1.2.3 Simulation of the causal effect</a></span></li><li><span><a href=\"#1.2.4-Averaging-to-Estimate-the-Causal-Effect\" data-toc-modified-id=\"1.2.4-Averaging-to-Estimate-the-Causal-Effect-2\">1.2.4 Averaging to Estimate the Causal Effect</a></span></li><li><span><a href=\"#1.3.2-Algebraic-OLS-estimator-in-Python\" data-toc-modified-id=\"1.3.2-Algebraic-OLS-estimator-in-Python-3\">1.3.2 Algebraic OLS estimator in Python</a></span></li><li><span><a href=\"#1.3.4-Multiplying-matrices-in-Python\" data-toc-modified-id=\"1.3.4-Multiplying-matrices-in-Python-4\">1.3.4 Multiplying matrices in Python</a></span></li><li><span><a href=\"#1.3.6-Matrix-estimator-of-OLS-in-Python\" data-toc-modified-id=\"1.3.6-Matrix-estimator-of-OLS-in-Python-5\">1.3.6 Matrix estimator of OLS in Python</a></span></li><li><span><a href=\"#1.4.3-Estimating-least-squares-in-Python\" data-toc-modified-id=\"1.4.3-Estimating-least-squares-in-Python-6\">1.4.3 Estimating least squares in Python</a></span></li><li><span><a href=\"#1.4.4-Linear-regression-in-Python\" data-toc-modified-id=\"1.4.4-Linear-regression-in-Python-7\">1.4.4 Linear regression in Python</a></span><ul class=\"toc-item\"><li><span><a href=\"#scipy-solution\" data-toc-modified-id=\"scipy-solution-7.1\">scipy solution</a></span></li><li><span><a href=\"#sklearn-solution\" data-toc-modified-id=\"sklearn-solution-7.2\">sklearn solution</a></span></li><li><span><a href=\"#statsmodels-solution\" data-toc-modified-id=\"statsmodels-solution-7.3\">statsmodels solution</a></span></li></ul></li><li><span><a href=\"#1.5.1.-Data-simulations\" data-toc-modified-id=\"1.5.1.-Data-simulations-8\">1.5.1. Data simulations</a></span></li><li><span><a href=\"#1.5.3-Bootstrap-in-Python\" data-toc-modified-id=\"1.5.3-Bootstrap-in-Python-9\">1.5.3 Bootstrap in Python</a></span></li><li><span><a href=\"#1.6.2-NLSM-data\" data-toc-modified-id=\"1.6.2-NLSM-data-10\">1.6.2 NLSM data</a></span></li><li><span><a href=\"#1.6.3-Plotting-returns-to-schooling\" data-toc-modified-id=\"1.6.3-Plotting-returns-to-schooling-11\">1.6.3 Plotting returns to schooling</a></span></li><li><span><a href=\"#1.6.4-Estimating-returns-to-schooling\" data-toc-modified-id=\"1.6.4-Estimating-returns-to-schooling-12\">1.6.4 Estimating returns to schooling</a></span></li></ul></div>"
   ]
  },
  {
   "cell_type": "markdown",
   "metadata": {},
   "source": [
    "## 1.2.3 Simulation of the causal effect"
   ]
  },
  {
   "cell_type": "code",
   "execution_count": 4,
   "metadata": {},
   "outputs": [],
   "source": [
    "# setting the seed in Numpy\n",
    "# as the function to generate seeds differ in Python and R, \n",
    "# (and actually even between plain Python and Numpy)\n",
    "# we will generate differents random data than in the book.\n",
    "import numpy as np\n",
    "np.random.seed(123456789)\n",
    "\n",
    "# main parameters of interest\n",
    "N = 100\n",
    "a = 2\n",
    "b = 3\n",
    "\n",
    "# create a vector where the observed characteristic, x, is drawn \n",
    "# from a uniform distribution\n",
    "x = np.random.rand(N)\n",
    "\n",
    "# create a vector for the unobserved characteristic, u, from\n",
    "# a standard normal distribution\n",
    "u = np.random.normal(size = N)\n",
    "\n",
    "# create a vector y\n",
    "y = a + b*x + u"
   ]
  },
  {
   "cell_type": "markdown",
   "metadata": {},
   "source": [
    " ## 1.2.4 Averaging to Estimate the Causal Effect"
   ]
  },
  {
   "cell_type": "code",
   "execution_count": 5,
   "metadata": {},
   "outputs": [],
   "source": [
    "# as there is no simple way to plot linear function in Python, \n",
    "# we create a dedicated function for it\n",
    "\n",
    "# credits to David Marx https://stackoverflow.com/questions/7941226/how-to-add-line-based-on-slope-and-intercept-in-matplotlib/43811762\n",
    "\n",
    "def abline(slope, intercept):\n",
    "    \"\"\"Plot a linear function from slope and intercept\"\"\"\n",
    "    axes = plt.gca()\n",
    "    x_vals = np.array(axes.get_xlim())\n",
    "    y_vals = intercept + slope * x_vals\n",
    "    plt.plot(x_vals, y_vals, color='dimgray')"
   ]
  },
  {
   "cell_type": "code",
   "execution_count": 6,
   "metadata": {},
   "outputs": [
    {
     "data": {
      "image/png": "[encoded data removed]",
      "text/plain": [
       "<Figure size 432x288 with 1 Axes>"
      ]
     },
     "metadata": {},
     "output_type": "display_data"
    }
   ],
   "source": [
    "import matplotlib.pyplot as plt\n",
    "\n",
    "# plotting with have a R-looking plotting style\n",
    "plt.style.use('seaborn-white')\n",
    "plt.scatter(x,y, facecolors='none', color = 'dimgray')\n",
    "abline(intercept = 2, slope = 3)"
   ]
  },
  {
   "cell_type": "code",
   "execution_count": 7,
   "metadata": {},
   "outputs": [
    {
     "data": {
      "text/plain": [
       "1.8767549243835857"
      ]
     },
     "execution_count": 7,
     "metadata": {},
     "output_type": "execute_result"
    }
   ],
   "source": [
    "# means takes an average\n",
    "# the logical expression inside the square brackets\n",
    "# creates an index for the elements of y where the logical\n",
    "# expression in x holds\n",
    "\n",
    "# in Python mean can be found in the Numpy library\n",
    "\n",
    "np.mean(y[x>0.95])-np.mean(y[x<0.05])"
   ]
  },
  {
   "cell_type": "markdown",
   "metadata": {},
   "source": [
    "## 1.3.2 Algebraic OLS estimator in Python"
   ]
  },
  {
   "cell_type": "code",
   "execution_count": 8,
   "metadata": {},
   "outputs": [
    {
     "data": {
      "text/plain": [
       "2.8406050244844363"
      ]
     },
     "execution_count": 8,
     "metadata": {},
     "output_type": "execute_result"
    }
   ],
   "source": [
    "b_hat = (np.mean(y)-2)/np.mean(x)\n",
    "b_hat"
   ]
  },
  {
   "cell_type": "markdown",
   "metadata": {},
   "source": [
    "## 1.3.4 Multiplying matrices in Python"
   ]
  },
  {
   "cell_type": "code",
   "execution_count": 9,
   "metadata": {},
   "outputs": [],
   "source": [
    "x1 = x[0:5] # python start counting at 0 and not at 1 like R"
   ]
  },
  {
   "cell_type": "code",
   "execution_count": 10,
   "metadata": {},
   "outputs": [],
   "source": [
    "# concatenating the two vectors in a matrix\n",
    "X1 = np.c_[np.ones(5),x1]"
   ]
  },
  {
   "cell_type": "code",
   "execution_count": 11,
   "metadata": {},
   "outputs": [
    {
     "data": {
      "text/plain": [
       "array([3.59849907, 3.6024098 , 3.52865911, 4.1406921 , 2.77099686])"
      ]
     },
     "execution_count": 11,
     "metadata": {},
     "output_type": "execute_result"
    }
   ],
   "source": [
    "# predicts value of y using the model\n",
    "X1.dot(np.array([2,3]))\n",
    "# [2,3] has to be passed through the array() function to get\n",
    "# reconise as a matrix"
   ]
  },
  {
   "cell_type": "code",
   "execution_count": 12,
   "metadata": {},
   "outputs": [
    {
     "data": {
      "text/plain": [
       "array([2.78002865, 4.12492526, 4.20554113, 3.63215153, 2.62481107])"
      ]
     },
     "execution_count": 12,
     "metadata": {},
     "output_type": "execute_result"
    }
   ],
   "source": [
    "# which we can compare to the true values\n",
    "y[0:5]"
   ]
  },
  {
   "cell_type": "markdown",
   "metadata": {},
   "source": [
    "## 1.3.6 Matrix estimator of OLS in Python"
   ]
  },
  {
   "cell_type": "code",
   "execution_count": 13,
   "metadata": {},
   "outputs": [],
   "source": [
    "X  = np.c_[np.ones(N),x]"
   ]
  },
  {
   "cell_type": "code",
   "execution_count": 14,
   "metadata": {},
   "outputs": [],
   "source": [
    "# creation of a matrix\n",
    "A = np.matrix('1 4; 2 5;3 6') # or np.c_[range(1,4), range(4,7)]"
   ]
  },
  {
   "cell_type": "code",
   "execution_count": 15,
   "metadata": {},
   "outputs": [
    {
     "data": {
      "text/plain": [
       "matrix([[1, 2, 3],\n",
       "        [4, 5, 6]])"
      ]
     },
     "execution_count": 15,
     "metadata": {},
     "output_type": "execute_result"
    }
   ],
   "source": [
    "# transpose of A\n",
    "np.transpose(A)"
   ]
  },
  {
   "cell_type": "code",
   "execution_count": 16,
   "metadata": {},
   "outputs": [
    {
     "data": {
      "text/plain": [
       "matrix([[14, 32],\n",
       "        [32, 77]])"
      ]
     },
     "execution_count": 16,
     "metadata": {},
     "output_type": "execute_result"
    }
   ],
   "source": [
    "# mutiplication of the transpose by itself\n",
    "np.transpose(A).dot(A) "
   ]
  },
  {
   "cell_type": "code",
   "execution_count": 17,
   "metadata": {},
   "outputs": [
    {
     "data": {
      "text/plain": [
       "array([[100.        ,  49.3476701 ],\n",
       "       [ 49.3476701 ,  33.08688716]])"
      ]
     },
     "execution_count": 17,
     "metadata": {},
     "output_type": "execute_result"
    }
   ],
   "source": [
    "# in our problem\n",
    "np.transpose(X).dot(X) "
   ]
  },
  {
   "cell_type": "code",
   "execution_count": 18,
   "metadata": {},
   "outputs": [
    {
     "data": {
      "text/plain": [
       "array([[ 0.03787869, -0.05649443],\n",
       "       [-0.05649443,  0.11448247]])"
      ]
     },
     "execution_count": 18,
     "metadata": {},
     "output_type": "execute_result"
    }
   ],
   "source": [
    "# in python the inverse matrix can be found using\n",
    "# the inv() function (from Numpy)\n",
    "np.linalg.inv( np.transpose(X).dot(X) )"
   ]
  },
  {
   "cell_type": "code",
   "execution_count": 19,
   "metadata": {},
   "outputs": [
    {
     "data": {
      "text/plain": [
       "array([1.89849254, 3.04630362])"
      ]
     },
     "execution_count": 19,
     "metadata": {},
     "output_type": "execute_result"
    }
   ],
   "source": [
    "beta_hat = np.linalg.inv(np.transpose(X).dot(X)).dot(np.transpose(X)).dot(y) \n",
    "beta_hat"
   ]
  },
  {
   "cell_type": "code",
   "execution_count": 20,
   "metadata": {},
   "outputs": [
    {
     "data": {
      "text/plain": [
       "array([-0.10150746,  0.04630362])"
      ]
     },
     "execution_count": 20,
     "metadata": {},
     "output_type": "execute_result"
    }
   ],
   "source": [
    "# we averaged over the unobserved term to get something close to 0.\n",
    "np.linalg.inv(np.transpose(X).dot(X)).dot(np.transpose(X)).dot(u) "
   ]
  },
  {
   "cell_type": "markdown",
   "metadata": {},
   "source": [
    "## 1.4.3 Estimating least squares in Python"
   ]
  },
  {
   "cell_type": "code",
   "execution_count": 21,
   "metadata": {},
   "outputs": [
    {
     "data": {
      "text/plain": [
       "      fun: 81.42945116260965\n",
       " hess_inv: <1x1 LbfgsInvHessProduct with dtype=float64>\n",
       "      jac: array([4.26325641e-06])\n",
       "  message: b'CONVERGENCE: NORM_OF_PROJECTED_GRADIENT_<=_PGTOL'\n",
       "     nfev: 6\n",
       "      nit: 1\n",
       "   status: 0\n",
       "  success: True\n",
       "        x: array([2.89490967])"
      ]
     },
     "execution_count": 21,
     "metadata": {},
     "output_type": "execute_result"
    }
   ],
   "source": [
    "from scipy.optimize import minimize\n",
    "\n",
    "def f(b):\n",
    "    \"The objective function - sum of squared difference function\"\n",
    "    return sum((y-2-b*x)**2)\n",
    "\n",
    "# the minimise function needs an initial guess\n",
    "x0 = 1\n",
    "# we search in the real line from -10 to 10\n",
    "bounds = [(-10,10)]\n",
    "\n",
    "# minizing the objective function\n",
    "minimize(f, x0, bounds = bounds)"
   ]
  },
  {
   "cell_type": "code",
   "execution_count": 22,
   "metadata": {},
   "outputs": [
    {
     "data": {
      "text/plain": [
       "2.894909599064989"
      ]
     },
     "execution_count": 22,
     "metadata": {},
     "output_type": "execute_result"
    }
   ],
   "source": [
    "# alternatively using the first order condition\n",
    "(np.mean(x*y)-2*np.mean(x))/np.mean(x*x)"
   ]
  },
  {
   "cell_type": "markdown",
   "metadata": {},
   "source": [
    "## 1.4.4 Linear regression in Python"
   ]
  },
  {
   "cell_type": "code",
   "execution_count": 23,
   "metadata": {},
   "outputs": [
    {
     "data": {
      "text/html": [
       "<div>\n",
       "<style scoped>\n",
       "    .dataframe tbody tr th:only-of-type {\n",
       "        vertical-align: middle;\n",
       "    }\n",
       "\n",
       "    .dataframe tbody tr th {\n",
       "        vertical-align: top;\n",
       "    }\n",
       "\n",
       "    .dataframe thead th {\n",
       "        text-align: right;\n",
       "    }\n",
       "</style>\n",
       "<table border=\"1\" class=\"dataframe\">\n",
       "  <thead>\n",
       "    <tr style=\"text-align: right;\">\n",
       "      <th></th>\n",
       "      <th>y</th>\n",
       "      <th>x</th>\n",
       "    </tr>\n",
       "  </thead>\n",
       "  <tbody>\n",
       "    <tr>\n",
       "      <th>0</th>\n",
       "      <td>2.780029</td>\n",
       "      <td>0.532833</td>\n",
       "    </tr>\n",
       "    <tr>\n",
       "      <th>1</th>\n",
       "      <td>4.124925</td>\n",
       "      <td>0.534137</td>\n",
       "    </tr>\n",
       "    <tr>\n",
       "      <th>2</th>\n",
       "      <td>4.205541</td>\n",
       "      <td>0.509553</td>\n",
       "    </tr>\n",
       "    <tr>\n",
       "      <th>3</th>\n",
       "      <td>3.632152</td>\n",
       "      <td>0.713564</td>\n",
       "    </tr>\n",
       "    <tr>\n",
       "      <th>4</th>\n",
       "      <td>2.624811</td>\n",
       "      <td>0.256999</td>\n",
       "    </tr>\n",
       "    <tr>\n",
       "      <th>...</th>\n",
       "      <td>...</td>\n",
       "      <td>...</td>\n",
       "    </tr>\n",
       "    <tr>\n",
       "      <th>95</th>\n",
       "      <td>4.446394</td>\n",
       "      <td>0.806967</td>\n",
       "    </tr>\n",
       "    <tr>\n",
       "      <th>96</th>\n",
       "      <td>4.032417</td>\n",
       "      <td>0.819154</td>\n",
       "    </tr>\n",
       "    <tr>\n",
       "      <th>97</th>\n",
       "      <td>3.032040</td>\n",
       "      <td>0.198643</td>\n",
       "    </tr>\n",
       "    <tr>\n",
       "      <th>98</th>\n",
       "      <td>3.013838</td>\n",
       "      <td>0.152537</td>\n",
       "    </tr>\n",
       "    <tr>\n",
       "      <th>99</th>\n",
       "      <td>3.483161</td>\n",
       "      <td>0.687020</td>\n",
       "    </tr>\n",
       "  </tbody>\n",
       "</table>\n",
       "<p>100 rows × 2 columns</p>\n",
       "</div>"
      ],
      "text/plain": [
       "           y         x\n",
       "0   2.780029  0.532833\n",
       "1   4.124925  0.534137\n",
       "2   4.205541  0.509553\n",
       "3   3.632152  0.713564\n",
       "4   2.624811  0.256999\n",
       "..       ...       ...\n",
       "95  4.446394  0.806967\n",
       "96  4.032417  0.819154\n",
       "97  3.032040  0.198643\n",
       "98  3.013838  0.152537\n",
       "99  3.483161  0.687020\n",
       "\n",
       "[100 rows x 2 columns]"
      ]
     },
     "execution_count": 23,
     "metadata": {},
     "output_type": "execute_result"
    }
   ],
   "source": [
    "import pandas as pd\n",
    "data1 = pd.DataFrame(np.c_[y,x])\n",
    "data1.columns=['y','x']\n",
    "data1"
   ]
  },
  {
   "cell_type": "markdown",
   "metadata": {},
   "source": [
    "### scipy solution"
   ]
  },
  {
   "cell_type": "code",
   "execution_count": 24,
   "metadata": {},
   "outputs": [
    {
     "data": {
      "text/plain": [
       "LinregressResult(slope=3.0463036172093023, intercept=1.8984925370520371, rvalue=0.7068947150384254, pvalue=2.0601867106113483e-16, stderr=0.30790773927020265)"
      ]
     },
     "execution_count": 24,
     "metadata": {},
     "output_type": "execute_result"
    }
   ],
   "source": [
    "from scipy import stats\n",
    "stats.linregress(x,y)"
   ]
  },
  {
   "cell_type": "markdown",
   "metadata": {},
   "source": [
    "### sklearn solution"
   ]
  },
  {
   "cell_type": "code",
   "execution_count": 25,
   "metadata": {},
   "outputs": [
    {
     "name": "stdout",
     "output_type": "stream",
     "text": [
      "Coefficients: \n",
      " [3.04630362]\n",
      "Intercept: \n",
      " 1.898492537052036\n"
     ]
    }
   ],
   "source": [
    "from sklearn import linear_model\n",
    "\n",
    "# create linear regression object\n",
    "regr = linear_model.LinearRegression()\n",
    "\n",
    "# fit\n",
    "regr.fit(x.reshape(-1, 1), y) \n",
    "# since the x is unidimentionnal the sklearn API imposes\n",
    "# to reshape it before using the fit() function\n",
    "\n",
    "print('Coefficients: \\n', regr.coef_)\n",
    "print('Intercept: \\n', regr.intercept_)"
   ]
  },
  {
   "cell_type": "markdown",
   "metadata": {},
   "source": [
    "### statsmodels solution"
   ]
  },
  {
   "cell_type": "code",
   "execution_count": 27,
   "metadata": {},
   "outputs": [
    {
     "data": {
      "text/html": [
       "<table class=\"simpletable\">\n",
       "<caption>OLS Regression Results</caption>\n",
       "<tr>\n",
       "  <th>Dep. Variable:</th>            <td>y</td>        <th>  R-squared:         </th> <td>   0.500</td>\n",
       "</tr>\n",
       "<tr>\n",
       "  <th>Model:</th>                   <td>OLS</td>       <th>  Adj. R-squared:    </th> <td>   0.495</td>\n",
       "</tr>\n",
       "<tr>\n",
       "  <th>Method:</th>             <td>Least Squares</td>  <th>  F-statistic:       </th> <td>   97.88</td>\n",
       "</tr>\n",
       "<tr>\n",
       "  <th>Date:</th>             <td>Tue, 26 Jan 2021</td> <th>  Prob (F-statistic):</th> <td>2.06e-16</td>\n",
       "</tr>\n",
       "<tr>\n",
       "  <th>Time:</th>                 <td>18:59:56</td>     <th>  Log-Likelihood:    </th> <td> -131.45</td>\n",
       "</tr>\n",
       "<tr>\n",
       "  <th>No. Observations:</th>      <td>   100</td>      <th>  AIC:               </th> <td>   266.9</td>\n",
       "</tr>\n",
       "<tr>\n",
       "  <th>Df Residuals:</th>          <td>    98</td>      <th>  BIC:               </th> <td>   272.1</td>\n",
       "</tr>\n",
       "<tr>\n",
       "  <th>Df Model:</th>              <td>     1</td>      <th>                     </th>     <td> </td>   \n",
       "</tr>\n",
       "<tr>\n",
       "  <th>Covariance Type:</th>      <td>nonrobust</td>    <th>                     </th>     <td> </td>   \n",
       "</tr>\n",
       "</table>\n",
       "<table class=\"simpletable\">\n",
       "<tr>\n",
       "    <td></td>       <th>coef</th>     <th>std err</th>      <th>t</th>      <th>P>|t|</th>  <th>[0.025</th>    <th>0.975]</th>  \n",
       "</tr>\n",
       "<tr>\n",
       "  <th>const</th> <td>    1.8985</td> <td>    0.177</td> <td>   10.719</td> <td> 0.000</td> <td>    1.547</td> <td>    2.250</td>\n",
       "</tr>\n",
       "<tr>\n",
       "  <th>x1</th>    <td>    3.0463</td> <td>    0.308</td> <td>    9.894</td> <td> 0.000</td> <td>    2.435</td> <td>    3.657</td>\n",
       "</tr>\n",
       "</table>\n",
       "<table class=\"simpletable\">\n",
       "<tr>\n",
       "  <th>Omnibus:</th>       <td> 0.968</td> <th>  Durbin-Watson:     </th> <td>   1.723</td>\n",
       "</tr>\n",
       "<tr>\n",
       "  <th>Prob(Omnibus):</th> <td> 0.616</td> <th>  Jarque-Bera (JB):  </th> <td>   1.066</td>\n",
       "</tr>\n",
       "<tr>\n",
       "  <th>Skew:</th>          <td> 0.178</td> <th>  Prob(JB):          </th> <td>   0.587</td>\n",
       "</tr>\n",
       "<tr>\n",
       "  <th>Kurtosis:</th>      <td> 2.642</td> <th>  Cond. No.          </th> <td>    4.27</td>\n",
       "</tr>\n",
       "</table><br/><br/>Warnings:<br/>[1] Standard Errors assume that the covariance matrix of the errors is correctly specified."
      ],
      "text/plain": [
       "<class 'statsmodels.iolib.summary.Summary'>\n",
       "\"\"\"\n",
       "                            OLS Regression Results                            \n",
       "==============================================================================\n",
       "Dep. Variable:                      y   R-squared:                       0.500\n",
       "Model:                            OLS   Adj. R-squared:                  0.495\n",
       "Method:                 Least Squares   F-statistic:                     97.88\n",
       "Date:                Tue, 26 Jan 2021   Prob (F-statistic):           2.06e-16\n",
       "Time:                        18:59:56   Log-Likelihood:                -131.45\n",
       "No. Observations:                 100   AIC:                             266.9\n",
       "Df Residuals:                      98   BIC:                             272.1\n",
       "Df Model:                           1                                         \n",
       "Covariance Type:            nonrobust                                         \n",
       "==============================================================================\n",
       "                 coef    std err          t      P>|t|      [0.025      0.975]\n",
       "------------------------------------------------------------------------------\n",
       "const          1.8985      0.177     10.719      0.000       1.547       2.250\n",
       "x1             3.0463      0.308      9.894      0.000       2.435       3.657\n",
       "==============================================================================\n",
       "Omnibus:                        0.968   Durbin-Watson:                   1.723\n",
       "Prob(Omnibus):                  0.616   Jarque-Bera (JB):                1.066\n",
       "Skew:                           0.178   Prob(JB):                        0.587\n",
       "Kurtosis:                       2.642   Cond. No.                         4.27\n",
       "==============================================================================\n",
       "\n",
       "Warnings:\n",
       "[1] Standard Errors assume that the covariance matrix of the errors is correctly specified.\n",
       "\"\"\""
      ]
     },
     "execution_count": 27,
     "metadata": {},
     "output_type": "execute_result"
    }
   ],
   "source": [
    "import statsmodels.api as sm\n",
    "\n",
    "# we add an intercept\n",
    "X = sm.add_constant(x)\n",
    "\n",
    "mod = sm.OLS(y,X)\n",
    "res = mod.fit()\n",
    "res.summary()"
   ]
  },
  {
   "cell_type": "code",
   "execution_count": 28,
   "metadata": {},
   "outputs": [
    {
     "data": {
      "text/plain": [
       "array([1.89849254, 3.04630362])"
      ]
     },
     "execution_count": 28,
     "metadata": {},
     "output_type": "execute_result"
    }
   ],
   "source": [
    "# result from the matrix algebra\n",
    "np.transpose(beta_hat)"
   ]
  },
  {
   "cell_type": "markdown",
   "metadata": {},
   "source": [
    "## 1.5.1. Data simulations"
   ]
  },
  {
   "cell_type": "code",
   "execution_count": 29,
   "metadata": {},
   "outputs": [],
   "source": [
    "np.random.seed(123456789)\n",
    "\n",
    "K = 1000\n",
    "\n",
    "# create an empty least to fill with the results of the \n",
    "# data simulation\n",
    "l = []\n",
    "\n",
    "for k in range(0,K):\n",
    "\n",
    "    x = np.random.rand(N)\n",
    "    u = np.random.normal(size = N)\n",
    "    y = a + b*x + u\n",
    "    regr = linear_model.LinearRegression()\n",
    "    regr.fit(x.reshape(-1, 1), y)\n",
    "    l.append([regr.intercept_, regr.coef_[0]])\n",
    "    # as we have only one coefficient we access it using \n",
    "    # regr.coef_[0]] - first element of a list of 1 coeff\n",
    "\n",
    "# stacking all the results in a single dataframe\n",
    "sim_res = pd.DataFrame(l)    \n",
    "# name the columns of the result matrix\n",
    "sim_res.columns = ['Est. of a', 'Est. of b']"
   ]
  },
  {
   "cell_type": "code",
   "execution_count": 30,
   "metadata": {},
   "outputs": [
    {
     "data": {
      "text/html": [
       "<div>\n",
       "<style scoped>\n",
       "    .dataframe tbody tr th:only-of-type {\n",
       "        vertical-align: middle;\n",
       "    }\n",
       "\n",
       "    .dataframe tbody tr th {\n",
       "        vertical-align: top;\n",
       "    }\n",
       "\n",
       "    .dataframe thead th {\n",
       "        text-align: right;\n",
       "    }\n",
       "</style>\n",
       "<table border=\"1\" class=\"dataframe\">\n",
       "  <thead>\n",
       "    <tr style=\"text-align: right;\">\n",
       "      <th></th>\n",
       "      <th>Est. of a</th>\n",
       "      <th>Est. of b</th>\n",
       "    </tr>\n",
       "  </thead>\n",
       "  <tbody>\n",
       "    <tr>\n",
       "      <th>count</th>\n",
       "      <td>1000.000000</td>\n",
       "      <td>1000.000000</td>\n",
       "    </tr>\n",
       "    <tr>\n",
       "      <th>mean</th>\n",
       "      <td>2.000870</td>\n",
       "      <td>3.003284</td>\n",
       "    </tr>\n",
       "    <tr>\n",
       "      <th>std</th>\n",
       "      <td>0.202131</td>\n",
       "      <td>0.347791</td>\n",
       "    </tr>\n",
       "    <tr>\n",
       "      <th>min</th>\n",
       "      <td>1.309924</td>\n",
       "      <td>1.941597</td>\n",
       "    </tr>\n",
       "    <tr>\n",
       "      <th>25%</th>\n",
       "      <td>1.868414</td>\n",
       "      <td>2.763309</td>\n",
       "    </tr>\n",
       "    <tr>\n",
       "      <th>50%</th>\n",
       "      <td>2.008992</td>\n",
       "      <td>3.005861</td>\n",
       "    </tr>\n",
       "    <tr>\n",
       "      <th>75%</th>\n",
       "      <td>2.130135</td>\n",
       "      <td>3.237053</td>\n",
       "    </tr>\n",
       "    <tr>\n",
       "      <th>max</th>\n",
       "      <td>2.595236</td>\n",
       "      <td>4.148743</td>\n",
       "    </tr>\n",
       "  </tbody>\n",
       "</table>\n",
       "</div>"
      ],
      "text/plain": [
       "         Est. of a    Est. of b\n",
       "count  1000.000000  1000.000000\n",
       "mean      2.000870     3.003284\n",
       "std       0.202131     0.347791\n",
       "min       1.309924     1.941597\n",
       "25%       1.868414     2.763309\n",
       "50%       2.008992     3.005861\n",
       "75%       2.130135     3.237053\n",
       "max       2.595236     4.148743"
      ]
     },
     "execution_count": 30,
     "metadata": {},
     "output_type": "execute_result"
    }
   ],
   "source": [
    "sim_res.describe()"
   ]
  },
  {
   "cell_type": "markdown",
   "metadata": {},
   "source": [
    "## 1.5.3 Bootstrap in Python"
   ]
  },
  {
   "cell_type": "code",
   "execution_count": 31,
   "metadata": {},
   "outputs": [
    {
     "data": {
      "text/html": [
       "<div>\n",
       "<style scoped>\n",
       "    .dataframe tbody tr th:only-of-type {\n",
       "        vertical-align: middle;\n",
       "    }\n",
       "\n",
       "    .dataframe tbody tr th {\n",
       "        vertical-align: top;\n",
       "    }\n",
       "\n",
       "    .dataframe thead th {\n",
       "        text-align: right;\n",
       "    }\n",
       "</style>\n",
       "<table border=\"1\" class=\"dataframe\">\n",
       "  <thead>\n",
       "    <tr style=\"text-align: right;\">\n",
       "      <th></th>\n",
       "      <th>Mean</th>\n",
       "      <th>SD</th>\n",
       "      <th>2.5%</th>\n",
       "      <th>97.5%</th>\n",
       "    </tr>\n",
       "  </thead>\n",
       "  <tbody>\n",
       "    <tr>\n",
       "      <th>Est. of a</th>\n",
       "      <td>1.899967</td>\n",
       "      <td>0.149644</td>\n",
       "      <td>1.577033</td>\n",
       "      <td>2.178879</td>\n",
       "    </tr>\n",
       "    <tr>\n",
       "      <th>Est. of b</th>\n",
       "      <td>3.038628</td>\n",
       "      <td>0.278047</td>\n",
       "      <td>2.513753</td>\n",
       "      <td>3.611489</td>\n",
       "    </tr>\n",
       "  </tbody>\n",
       "</table>\n",
       "</div>"
      ],
      "text/plain": [
       "               Mean        SD      2.5%     97.5%\n",
       "Est. of a  1.899967  0.149644  1.577033  2.178879\n",
       "Est. of b  3.038628  0.278047  2.513753  3.611489"
      ]
     },
     "execution_count": 31,
     "metadata": {},
     "output_type": "execute_result"
    }
   ],
   "source": [
    "np.random.seed(123456789)\n",
    "\n",
    "K = 1000\n",
    "\n",
    "l = []\n",
    "\n",
    "for k in range(0,K):\n",
    "    \n",
    "    #index_k = np.random.randint(N+1) # again, Python start counting at 0\n",
    "    data_k = data1.sample(N+1, replace = True)\n",
    "    regr = linear_model.LinearRegression()\n",
    "    regr.fit(np.array(data_k['x']).reshape(-1, 1), data_k['y'])\n",
    "    l.append([regr.intercept_, regr.coef_[0]])\n",
    "\n",
    "# stacking all the results in a single dataframe\n",
    "sim_res = pd.DataFrame(l)\n",
    "# name the columns of the result matrix\n",
    "sim_res.columns = ['Est. of a', 'Est. of b']\n",
    "\n",
    "# bootstrap estimates from the simulation\n",
    "tab_res = pd.DataFrame()\n",
    "tab_res['Mean'] = np.mean(sim_res)\n",
    "tab_res['SD'] = np.std(sim_res)\n",
    "tab_res['2.5%'] = sim_res.quantile(0.025)\n",
    "tab_res['97.5%'] = sim_res.quantile(0.975)\n",
    "tab_res"
   ]
  },
  {
   "cell_type": "code",
   "execution_count": 32,
   "metadata": {},
   "outputs": [],
   "source": [
    "# the standard errors can be found in the statsmodel solution"
   ]
  },
  {
   "cell_type": "markdown",
   "metadata": {},
   "source": [
    "## 1.6.2 NLSM data"
   ]
  },
  {
   "cell_type": "code",
   "execution_count": 48,
   "metadata": {},
   "outputs": [],
   "source": [
    "df = pd.read_csv(\"../data/nls.csv\") # convention to name any dataset as df in Python\n",
    "\n",
    "# converting two variables as numbers, errors are coerced into NAs\n",
    "df['wage76'] = df['wage76'].apply(pd.to_numeric, errors='coerce')\n",
    "df['lwage76'] = df['lwage76'].apply(pd.to_numeric, errors='coerce')"
   ]
  },
  {
   "cell_type": "code",
   "execution_count": 49,
   "metadata": {},
   "outputs": [],
   "source": [
    "# create a new dataset with missing values removed\n",
    "df1 = df[df['lwage76'].isna()==False]"
   ]
  },
  {
   "cell_type": "markdown",
   "metadata": {},
   "source": [
    "## 1.6.3 Plotting returns to schooling"
   ]
  },
  {
   "cell_type": "code",
   "execution_count": 61,
   "metadata": {},
   "outputs": [
    {
     "data": {
      "image/png": "[encoded data removed]",
      "text/plain": [
       "<Figure size 432x288 with 1 Axes>"
      ]
     },
     "metadata": {},
     "output_type": "display_data"
    }
   ],
   "source": [
    "# create linear regression object\n",
    "regr = linear_model.LinearRegression()\n",
    "\n",
    "# fit\n",
    "x = df1['lwage76']\n",
    "y = np.array(df1['ed76']).reshape(-1, 1) # need to change the datatype\n",
    "regr.fit(y, x) \n",
    "\n",
    "# plotting the dots\n",
    "plt.scatter(df1['ed76'],\n",
    "            df1['lwage76'],\n",
    "            facecolors='none',\n",
    "            color = 'dimgray')\n",
    "\n",
    "# and the obtained regression line\n",
    "abline(intercept = regr.intercept_, slope = regr.coef_[0])"
   ]
  },
  {
   "cell_type": "markdown",
   "metadata": {},
   "source": [
    "## 1.6.4 Estimating returns to schooling"
   ]
  },
  {
   "cell_type": "code",
   "execution_count": 63,
   "metadata": {},
   "outputs": [
    {
     "data": {
      "text/html": [
       "<table class=\"simpletable\">\n",
       "<caption>OLS Regression Results</caption>\n",
       "<tr>\n",
       "  <th>Dep. Variable:</th>         <td>lwage76</td>     <th>  R-squared:         </th> <td>   0.099</td>\n",
       "</tr>\n",
       "<tr>\n",
       "  <th>Model:</th>                   <td>OLS</td>       <th>  Adj. R-squared:    </th> <td>   0.098</td>\n",
       "</tr>\n",
       "<tr>\n",
       "  <th>Method:</th>             <td>Least Squares</td>  <th>  F-statistic:       </th> <td>   329.5</td>\n",
       "</tr>\n",
       "<tr>\n",
       "  <th>Date:</th>             <td>Tue, 26 Jan 2021</td> <th>  Prob (F-statistic):</th> <td>5.77e-70</td>\n",
       "</tr>\n",
       "<tr>\n",
       "  <th>Time:</th>                 <td>19:21:02</td>     <th>  Log-Likelihood:    </th> <td> -1668.8</td>\n",
       "</tr>\n",
       "<tr>\n",
       "  <th>No. Observations:</th>      <td>  3010</td>      <th>  AIC:               </th> <td>   3342.</td>\n",
       "</tr>\n",
       "<tr>\n",
       "  <th>Df Residuals:</th>          <td>  3008</td>      <th>  BIC:               </th> <td>   3354.</td>\n",
       "</tr>\n",
       "<tr>\n",
       "  <th>Df Model:</th>              <td>     1</td>      <th>                     </th>     <td> </td>   \n",
       "</tr>\n",
       "<tr>\n",
       "  <th>Covariance Type:</th>      <td>nonrobust</td>    <th>                     </th>     <td> </td>   \n",
       "</tr>\n",
       "</table>\n",
       "<table class=\"simpletable\">\n",
       "<tr>\n",
       "      <td></td>         <th>coef</th>     <th>std err</th>      <th>t</th>      <th>P>|t|</th>  <th>[0.025</th>    <th>0.975]</th>  \n",
       "</tr>\n",
       "<tr>\n",
       "  <th>Intercept</th> <td>    5.5709</td> <td>    0.039</td> <td>  143.470</td> <td> 0.000</td> <td>    5.495</td> <td>    5.647</td>\n",
       "</tr>\n",
       "<tr>\n",
       "  <th>ed76</th>      <td>    0.0521</td> <td>    0.003</td> <td>   18.153</td> <td> 0.000</td> <td>    0.046</td> <td>    0.058</td>\n",
       "</tr>\n",
       "</table>\n",
       "<table class=\"simpletable\">\n",
       "<tr>\n",
       "  <th>Omnibus:</th>       <td>23.139</td> <th>  Durbin-Watson:     </th> <td>   1.725</td>\n",
       "</tr>\n",
       "<tr>\n",
       "  <th>Prob(Omnibus):</th> <td> 0.000</td> <th>  Jarque-Bera (JB):  </th> <td>  24.345</td>\n",
       "</tr>\n",
       "<tr>\n",
       "  <th>Skew:</th>          <td>-0.186</td> <th>  Prob(JB):          </th> <td>5.17e-06</td>\n",
       "</tr>\n",
       "<tr>\n",
       "  <th>Kurtosis:</th>      <td> 3.236</td> <th>  Cond. No.          </th> <td>    68.8</td>\n",
       "</tr>\n",
       "</table><br/><br/>Warnings:<br/>[1] Standard Errors assume that the covariance matrix of the errors is correctly specified."
      ],
      "text/plain": [
       "<class 'statsmodels.iolib.summary.Summary'>\n",
       "\"\"\"\n",
       "                            OLS Regression Results                            \n",
       "==============================================================================\n",
       "Dep. Variable:                lwage76   R-squared:                       0.099\n",
       "Model:                            OLS   Adj. R-squared:                  0.098\n",
       "Method:                 Least Squares   F-statistic:                     329.5\n",
       "Date:                Tue, 26 Jan 2021   Prob (F-statistic):           5.77e-70\n",
       "Time:                        19:21:02   Log-Likelihood:                -1668.8\n",
       "No. Observations:                3010   AIC:                             3342.\n",
       "Df Residuals:                    3008   BIC:                             3354.\n",
       "Df Model:                           1                                         \n",
       "Covariance Type:            nonrobust                                         \n",
       "==============================================================================\n",
       "                 coef    std err          t      P>|t|      [0.025      0.975]\n",
       "------------------------------------------------------------------------------\n",
       "Intercept      5.5709      0.039    143.470      0.000       5.495       5.647\n",
       "ed76           0.0521      0.003     18.153      0.000       0.046       0.058\n",
       "==============================================================================\n",
       "Omnibus:                       23.139   Durbin-Watson:                   1.725\n",
       "Prob(Omnibus):                  0.000   Jarque-Bera (JB):               24.345\n",
       "Skew:                          -0.186   Prob(JB):                     5.17e-06\n",
       "Kurtosis:                       3.236   Cond. No.                         68.8\n",
       "==============================================================================\n",
       "\n",
       "Warnings:\n",
       "[1] Standard Errors assume that the covariance matrix of the errors is correctly specified.\n",
       "\"\"\""
      ]
     },
     "execution_count": 63,
     "metadata": {},
     "output_type": "execute_result"
    }
   ],
   "source": [
    "# unfortunately where is no built-in option in sklearn to get statistical \n",
    "# table similar to the R output. \n",
    "# here is the result with statsmodel, \n",
    "# which in addition as an interface very simiar to R's:\n",
    "\n",
    "from statsmodels.formula.api  import ols\n",
    "result = ols(formula = 'lwage76 ~  ed76', data = df).fit()\n",
    "result.summary()"
   ]
  },
  {
   "cell_type": "code",
   "execution_count": 66,
   "metadata": {},
   "outputs": [
    {
     "data": {
      "text/plain": [
       "1.053475013724589"
      ]
     },
     "execution_count": 66,
     "metadata": {},
     "output_type": "execute_result"
    }
   ],
   "source": [
    "# predicted percentage increase in wages for one year of schoolings\n",
    "np.exp(np.log(np.mean(df1['wage76']))+regr.coef_[0])/np.mean(df1)['wage76']"
   ]
  }
 ],
 "metadata": {
  "kernelspec": {
   "display_name": "Python 3",
   "language": "python",
   "name": "python3"
  },
  "language_info": {
   "codemirror_mode": {
    "name": "ipython",
    "version": 3
   },
   "file_extension": ".py",
   "mimetype": "text/x-python",
   "name": "python",
   "nbconvert_exporter": "python",
   "pygments_lexer": "ipython3",
   "version": "3.7.6"
  },
  "toc": {
   "base_numbering": 1,
   "nav_menu": {},
   "number_sections": false,
   "sideBar": true,
   "skip_h1_title": true,
   "title_cell": "Table of Contents",
   "title_sidebar": "Contents",
   "toc_cell": true,
   "toc_position": {},
   "toc_section_display": true,
   "toc_window_display": true
  },
  "varInspector": {
   "cols": {
    "lenName": 16,
    "lenType": 16,
    "lenVar": 40
   },
   "kernels_config": {
    "python": {
     "delete_cmd_postfix": "",
     "delete_cmd_prefix": "del ",
     "library": "var_list.py",
     "varRefreshCmd": "print(var_dic_list())"
    },
    "r": {
     "delete_cmd_postfix": ") ",
     "delete_cmd_prefix": "rm(",
     "library": "var_list.r",
     "varRefreshCmd": "cat(var_dic_list()) "
    }
   },
   "types_to_exclude": [
    "module",
    "function",
    "builtin_function_or_method",
    "instance",
    "_Feature"
   ],
   "window_display": false
  }
 },
 "nbformat": 4,
 "nbformat_minor": 4
}

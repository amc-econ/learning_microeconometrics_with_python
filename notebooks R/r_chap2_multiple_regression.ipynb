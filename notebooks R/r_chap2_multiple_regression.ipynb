{
 "cells": [
  {
   "cell_type": "markdown",
   "metadata": {},
   "source": [
    "# R/Chapter 2 - Multiple regression"
   ]
  },
  {
   "cell_type": "markdown",
   "metadata": {
    "toc": true
   },
   "source": [
    "<h1>Table of Contents<span class=\"tocSkip\"></span></h1>\n",
    "<div class=\"toc\"><ul class=\"toc-item\"><li><span><a href=\"#Simulation-with-multiple-explanatory-variables\" data-toc-modified-id=\"Simulation-with-multiple-explanatory-variables-1\"><span class=\"toc-item-num\">1&nbsp;&nbsp;</span>Simulation with multiple explanatory variables</a></span></li><li><span><a href=\"#Matrix-algebra-of-short-regression\" data-toc-modified-id=\"Matrix-algebra-of-short-regression-2\"><span class=\"toc-item-num\">2&nbsp;&nbsp;</span>Matrix algebra of short regression</a></span></li><li><span><a href=\"#Understandng-multicollinearity-with-R\" data-toc-modified-id=\"Understandng-multicollinearity-with-R-3\"><span class=\"toc-item-num\">3&nbsp;&nbsp;</span>Understandng multicollinearity with R</a></span></li><li><span><a href=\"#NLSM-data\" data-toc-modified-id=\"NLSM-data-4\"><span class=\"toc-item-num\">4&nbsp;&nbsp;</span>NLSM data</a></span></li><li><span><a href=\"#OLS-estimates-of-return-to-schooling\" data-toc-modified-id=\"OLS-estimates-of-return-to-schooling-5\"><span class=\"toc-item-num\">5&nbsp;&nbsp;</span>OLS estimates of return to schooling</a></span></li><li><span><a href=\"#Simulation-of-dual-path-model\" data-toc-modified-id=\"Simulation-of-dual-path-model-6\"><span class=\"toc-item-num\">6&nbsp;&nbsp;</span>Simulation of dual path model</a></span></li><li><span><a href=\"#Dual-path-estimator-vs-long-regression\" data-toc-modified-id=\"Dual-path-estimator-vs-long-regression-7\"><span class=\"toc-item-num\">7&nbsp;&nbsp;</span>Dual path estimator vs long regression</a></span></li></ul></div>"
   ]
  },
  {
   "cell_type": "code",
   "execution_count": 1,
   "metadata": {},
   "outputs": [],
   "source": [
    "# R in english\n",
    "Sys.setenv(LANG = \"en\")"
   ]
  },
  {
   "cell_type": "markdown",
   "metadata": {},
   "source": [
    "## Simulation with multiple explanatory variables"
   ]
  },
  {
   "cell_type": "code",
   "execution_count": 2,
   "metadata": {},
   "outputs": [],
   "source": [
    "# generates simulated data\n",
    "set.seed(123456789)\n",
    "N <- 1000\n",
    "a <- 2\n",
    "b <- 3\n",
    "c <- 4\n",
    "u_x <- rnorm(N)\n",
    "alpha <- 0\n",
    "x <- x1 <- (1-alpha)*runif(N)+alpha*u_x\n",
    "w <- w1 <- (1-alpha)*runif(N)+alpha*u_x\n",
    "# creates two identitical variables\n",
    "# x1 and w1 are used later\n",
    "u <- rnorm(N)\n",
    "y <- a + b*x + c*w + u\n",
    "\n",
    "# regressions\n",
    "lm1 <- lm(y~x)\n",
    "lm2 <- lm(y~x+w)"
   ]
  },
  {
   "cell_type": "code",
   "execution_count": 3,
   "metadata": {},
   "outputs": [],
   "source": [
    "# we repeat for a different version of alpha\n",
    "# allows for dependance between x and w\n",
    "alpha <- 0.5\n",
    "x <- x2 <- (1-alpha)*runif(N)+alpha*u_x\n",
    "w <- w2 <- (1-alpha)*runif(N)+alpha*u_x\n",
    "y <- a + b*x + c*w + u\n",
    "\n",
    "# regressions\n",
    "lm3 <- lm(y~x)\n",
    "lm4 <- lm(y~x+w)"
   ]
  },
  {
   "cell_type": "code",
   "execution_count": 4,
   "metadata": {},
   "outputs": [],
   "source": [
    "# and with x and w highly correlated \n",
    "# i.e. multicollinearity \n",
    "alpha <- 0.95\n",
    "x <- x3 <- (1-alpha)*runif(N)+alpha*u_x\n",
    "w <- w3 <- (1-alpha)*runif(N)+alpha*u_x\n",
    "y <- a + b*x + c*w + u\n",
    "\n",
    "# regressions\n",
    "lm5 <- lm(y~x)\n",
    "lm6 <- lm(y~x+w)"
   ]
  },
  {
   "cell_type": "code",
   "execution_count": 6,
   "metadata": {},
   "outputs": [
    {
     "name": "stdout",
     "output_type": "stream",
     "text": [
      "\n",
      "============================================================\n",
      "                           Dependent variable:              \n",
      "             -----------------------------------------------\n",
      "                                    y                       \n",
      "               (1)     (2)     (3)     (4)     (5)     (6)  \n",
      "------------------------------------------------------------\n",
      "x            3.14*** 2.81*** 6.84*** 2.86*** 7.01***  0.67  \n",
      "             (0.17)  (0.11)  (0.08)  (0.17)  (0.03)  (1.59) \n",
      "                                                            \n",
      "w                    4.05***         4.16***         6.35***\n",
      "                     (0.11)          (0.16)          (1.59) \n",
      "                                                            \n",
      "Constant     3.98*** 2.15*** 2.14*** 2.07*** 2.07*** 2.08***\n",
      "             (0.10)  (0.08)  (0.05)  (0.04)  (0.03)  (0.03) \n",
      "                                                            \n",
      "------------------------------------------------------------\n",
      "Observations  1,000   1,000   1,000   1,000   1,000   1,000 \n",
      "R2            0.26    0.68    0.88    0.93    0.98    0.98  \n",
      "============================================================\n",
      "Note:                            *p<0.1; **p<0.05; ***p<0.01\n"
     ]
    }
   ],
   "source": [
    "#install.packages(\"stargazer\")\n",
    "require(stargazer)\n",
    "\n",
    "# presenting regression results\n",
    "stargazer(list(lm1, lm2, lm3, lm4, lm5, lm6),\n",
    "         keep.stat = c(\"n\", \"rsq\"),\n",
    "         float = FALSE, font.size = \"small\", digits = 2,\n",
    "         keep = c(1:6), type=\"text\")\n",
    "# stargazer renders properly in Jupyter with the option\n",
    "# type=\"text\""
   ]
  },
  {
   "cell_type": "markdown",
   "metadata": {},
   "source": [
    "## Matrix algebra of short regression"
   ]
  },
  {
   "cell_type": "code",
   "execution_count": 9,
   "metadata": {},
   "outputs": [
    {
     "data": {
      "text/html": [
       "0.00701908205319277"
      ],
      "text/latex": [
       "0.00701908205319277"
      ],
      "text/markdown": [
       "0.00701908205319277"
      ],
      "text/plain": [
       "[1] 0.007019082"
      ]
     },
     "metadata": {},
     "output_type": "display_data"
    },
    {
     "data": {
      "text/html": [
       "0.255765550747232"
      ],
      "text/latex": [
       "0.255765550747232"
      ],
      "text/markdown": [
       "0.255765550747232"
      ],
      "text/plain": [
       "[1] 0.2557656"
      ]
     },
     "metadata": {},
     "output_type": "display_data"
    },
    {
     "data": {
      "text/html": [
       "<table>\n",
       "<caption>A matrix: 1 × 1 of type dbl</caption>\n",
       "<tbody>\n",
       "\t<tr><td>318.8261</td></tr>\n",
       "</tbody>\n",
       "</table>\n"
      ],
      "text/latex": [
       "A matrix: 1 × 1 of type dbl\n",
       "\\begin{tabular}{l}\n",
       "\t 318.8261\\\\\n",
       "\\end{tabular}\n"
      ],
      "text/markdown": [
       "\n",
       "A matrix: 1 × 1 of type dbl\n",
       "\n",
       "| 318.8261 |\n",
       "\n"
      ],
      "text/plain": [
       "     [,1]    \n",
       "[1,] 318.8261"
      ]
     },
     "metadata": {},
     "output_type": "display_data"
    }
   ],
   "source": [
    "cov(x1, w1)\n",
    "cov(x2, w2)\n",
    "t(x2)%*%w2\n",
    "# measures the correlation between the Xs and the Ws."
   ]
  },
  {
   "cell_type": "markdown",
   "metadata": {},
   "source": [
    "## Understandng multicollinearity with R"
   ]
  },
  {
   "cell_type": "code",
   "execution_count": 11,
   "metadata": {},
   "outputs": [
    {
     "data": {
      "text/html": [
       "<table>\n",
       "<caption>A matrix: 3 × 1 of type dbl</caption>\n",
       "<tbody>\n",
       "\t<tr><th scope=row></th><td> 0.0766164</td></tr>\n",
       "\t<tr><th scope=row>x3</th><td>-2.3321265</td></tr>\n",
       "\t<tr><th scope=row>w3</th><td> 2.3462160</td></tr>\n",
       "</tbody>\n",
       "</table>\n"
      ],
      "text/latex": [
       "A matrix: 3 × 1 of type dbl\n",
       "\\begin{tabular}{r|l}\n",
       "\t &  0.0766164\\\\\n",
       "\tx3 & -2.3321265\\\\\n",
       "\tw3 &  2.3462160\\\\\n",
       "\\end{tabular}\n"
      ],
      "text/markdown": [
       "\n",
       "A matrix: 3 × 1 of type dbl\n",
       "\n",
       "| <!----> |  0.0766164 |\n",
       "| x3 | -2.3321265 |\n",
       "| w3 |  2.3462160 |\n",
       "\n"
      ],
      "text/plain": [
       "   [,1]      \n",
       "    0.0766164\n",
       "x3 -2.3321265\n",
       "w3  2.3462160"
      ]
     },
     "metadata": {},
     "output_type": "display_data"
    }
   ],
   "source": [
    "X2 <- cbind(1, x3, w3)\n",
    "solve(t(X2)%*%X2)%*%t(X2)%*%u"
   ]
  },
  {
   "cell_type": "code",
   "execution_count": 15,
   "metadata": {},
   "outputs": [
    {
     "data": {
      "text/html": [
       "0.0763595692988343"
      ],
      "text/latex": [
       "0.0763595692988343"
      ],
      "text/markdown": [
       "0.0763595692988343"
      ],
      "text/plain": [
       "[1] 0.07635957"
      ]
     },
     "metadata": {},
     "output_type": "display_data"
    },
    {
     "data": {
      "text/html": [
       "0.0131664168204334"
      ],
      "text/latex": [
       "0.0131664168204334"
      ],
      "text/markdown": [
       "0.0131664168204334"
      ],
      "text/plain": [
       "[1] 0.01316642"
      ]
     },
     "metadata": {},
     "output_type": "display_data"
    },
    {
     "data": {
      "text/html": [
       "0.0141371719956355"
      ],
      "text/latex": [
       "0.0141371719956355"
      ],
      "text/markdown": [
       "0.0141371719956355"
      ],
      "text/plain": [
       "[1] 0.01413717"
      ]
     },
     "metadata": {},
     "output_type": "display_data"
    },
    {
     "data": {
      "text/html": [
       "<table>\n",
       "<caption>A matrix: 3 × 1 of type dbl</caption>\n",
       "<tbody>\n",
       "\t<tr><th scope=row></th><td>0.07635957</td></tr>\n",
       "\t<tr><th scope=row>x3</th><td>0.01593319</td></tr>\n",
       "\t<tr><th scope=row>w3</th><td>0.01687792</td></tr>\n",
       "</tbody>\n",
       "</table>\n"
      ],
      "text/latex": [
       "A matrix: 3 × 1 of type dbl\n",
       "\\begin{tabular}{r|l}\n",
       "\t & 0.07635957\\\\\n",
       "\tx3 & 0.01593319\\\\\n",
       "\tw3 & 0.01687792\\\\\n",
       "\\end{tabular}\n"
      ],
      "text/markdown": [
       "\n",
       "A matrix: 3 × 1 of type dbl\n",
       "\n",
       "| <!----> | 0.07635957 |\n",
       "| x3 | 0.01593319 |\n",
       "| w3 | 0.01687792 |\n",
       "\n"
      ],
      "text/plain": [
       "   [,1]      \n",
       "   0.07635957\n",
       "x3 0.01593319\n",
       "w3 0.01687792"
      ]
     },
     "metadata": {},
     "output_type": "display_data"
    }
   ],
   "source": [
    "mean(u)\n",
    "cov(x3,u)\n",
    "cov(w3,u)\n",
    "(1/N)*t(X2)%*%u"
   ]
  },
  {
   "cell_type": "code",
   "execution_count": 16,
   "metadata": {},
   "outputs": [
    {
     "data": {
      "text/html": [
       "2.61026506240724e-06"
      ],
      "text/latex": [
       "2.61026506240724e-06"
      ],
      "text/markdown": [
       "2.61026506240724e-06"
      ],
      "text/plain": [
       "[1] 2.610265e-06"
      ]
     },
     "metadata": {},
     "output_type": "display_data"
    }
   ],
   "source": [
    "1/det(t(X2)%*%X2)\n",
    "# calculates the reciprocal of the determnant of the matrixx"
   ]
  },
  {
   "cell_type": "markdown",
   "metadata": {},
   "source": [
    "## NLSM data"
   ]
  },
  {
   "cell_type": "code",
   "execution_count": 18,
   "metadata": {},
   "outputs": [],
   "source": [
    "x <- read.csv(\"../data/nls.csv\", as.is = TRUE)"
   ]
  },
  {
   "cell_type": "code",
   "execution_count": 21,
   "metadata": {},
   "outputs": [
    {
     "data": {
      "text/html": [
       "<table>\n",
       "<caption>A data.frame: 6 × 52</caption>\n",
       "<thead>\n",
       "\t<tr><th></th><th scope=col>id</th><th scope=col>nearc2</th><th scope=col>nearc4</th><th scope=col>nearc4a</th><th scope=col>nearc4b</th><th scope=col>ed76</th><th scope=col>ed66</th><th scope=col>age76</th><th scope=col>daded</th><th scope=col>nodaded</th><th scope=col>⋯</th><th scope=col>noint80</th><th scope=col>enroll76</th><th scope=col>enroll78</th><th scope=col>enroll80</th><th scope=col>kww</th><th scope=col>iq</th><th scope=col>marsta76</th><th scope=col>marsta78</th><th scope=col>marsta80</th><th scope=col>libcrd14</th></tr>\n",
       "\t<tr><th></th><th scope=col>&lt;int&gt;</th><th scope=col>&lt;int&gt;</th><th scope=col>&lt;int&gt;</th><th scope=col>&lt;int&gt;</th><th scope=col>&lt;int&gt;</th><th scope=col>&lt;int&gt;</th><th scope=col>&lt;int&gt;</th><th scope=col>&lt;int&gt;</th><th scope=col>&lt;dbl&gt;</th><th scope=col>&lt;int&gt;</th><th scope=col>⋯</th><th scope=col>&lt;int&gt;</th><th scope=col>&lt;int&gt;</th><th scope=col>&lt;chr&gt;</th><th scope=col>&lt;chr&gt;</th><th scope=col>&lt;chr&gt;</th><th scope=col>&lt;chr&gt;</th><th scope=col>&lt;chr&gt;</th><th scope=col>&lt;chr&gt;</th><th scope=col>&lt;chr&gt;</th><th scope=col>&lt;chr&gt;</th></tr>\n",
       "</thead>\n",
       "<tbody>\n",
       "\t<tr><th scope=row>1</th><td>2</td><td>0</td><td>0</td><td>0</td><td>0</td><td> 7</td><td> 5</td><td>29</td><td> 9.94</td><td>1</td><td>⋯</td><td>0</td><td>0</td><td>0</td><td>0</td><td>15</td><td>.  </td><td>1</td><td>1</td><td>1</td><td>0</td></tr>\n",
       "\t<tr><th scope=row>2</th><td>3</td><td>0</td><td>0</td><td>0</td><td>0</td><td>12</td><td>11</td><td>27</td><td> 8.00</td><td>0</td><td>⋯</td><td>0</td><td>0</td><td>0</td><td>0</td><td>35</td><td>93 </td><td>1</td><td>4</td><td>4</td><td>1</td></tr>\n",
       "\t<tr><th scope=row>3</th><td>4</td><td>0</td><td>0</td><td>0</td><td>0</td><td>12</td><td>12</td><td>34</td><td>14.00</td><td>0</td><td>⋯</td><td>1</td><td>0</td><td>.</td><td>.</td><td>42</td><td>103</td><td>1</td><td>.</td><td>.</td><td>1</td></tr>\n",
       "\t<tr><th scope=row>4</th><td>5</td><td>1</td><td>1</td><td>1</td><td>0</td><td>11</td><td>11</td><td>27</td><td>11.00</td><td>0</td><td>⋯</td><td>0</td><td>0</td><td>.</td><td>0</td><td>25</td><td>88 </td><td>1</td><td>.</td><td>5</td><td>1</td></tr>\n",
       "\t<tr><th scope=row>5</th><td>6</td><td>1</td><td>1</td><td>1</td><td>0</td><td>12</td><td>12</td><td>34</td><td> 8.00</td><td>0</td><td>⋯</td><td>1</td><td>0</td><td>0</td><td>.</td><td>34</td><td>108</td><td>1</td><td>1</td><td>.</td><td>0</td></tr>\n",
       "\t<tr><th scope=row>6</th><td>7</td><td>1</td><td>1</td><td>1</td><td>0</td><td>12</td><td>11</td><td>26</td><td> 9.00</td><td>0</td><td>⋯</td><td>0</td><td>0</td><td>0</td><td>0</td><td>38</td><td>85 </td><td>1</td><td>4</td><td>4</td><td>1</td></tr>\n",
       "</tbody>\n",
       "</table>\n"
      ],
      "text/latex": [
       "A data.frame: 6 × 52\n",
       "\\begin{tabular}{r|lllllllllllllllllllll}\n",
       "  & id & nearc2 & nearc4 & nearc4a & nearc4b & ed76 & ed66 & age76 & daded & nodaded & ⋯ & noint80 & enroll76 & enroll78 & enroll80 & kww & iq & marsta76 & marsta78 & marsta80 & libcrd14\\\\\n",
       "  & <int> & <int> & <int> & <int> & <int> & <int> & <int> & <int> & <dbl> & <int> & ⋯ & <int> & <int> & <chr> & <chr> & <chr> & <chr> & <chr> & <chr> & <chr> & <chr>\\\\\n",
       "\\hline\n",
       "\t1 & 2 & 0 & 0 & 0 & 0 &  7 &  5 & 29 &  9.94 & 1 & ⋯ & 0 & 0 & 0 & 0 & 15 & .   & 1 & 1 & 1 & 0\\\\\n",
       "\t2 & 3 & 0 & 0 & 0 & 0 & 12 & 11 & 27 &  8.00 & 0 & ⋯ & 0 & 0 & 0 & 0 & 35 & 93  & 1 & 4 & 4 & 1\\\\\n",
       "\t3 & 4 & 0 & 0 & 0 & 0 & 12 & 12 & 34 & 14.00 & 0 & ⋯ & 1 & 0 & . & . & 42 & 103 & 1 & . & . & 1\\\\\n",
       "\t4 & 5 & 1 & 1 & 1 & 0 & 11 & 11 & 27 & 11.00 & 0 & ⋯ & 0 & 0 & . & 0 & 25 & 88  & 1 & . & 5 & 1\\\\\n",
       "\t5 & 6 & 1 & 1 & 1 & 0 & 12 & 12 & 34 &  8.00 & 0 & ⋯ & 1 & 0 & 0 & . & 34 & 108 & 1 & 1 & . & 0\\\\\n",
       "\t6 & 7 & 1 & 1 & 1 & 0 & 12 & 11 & 26 &  9.00 & 0 & ⋯ & 0 & 0 & 0 & 0 & 38 & 85  & 1 & 4 & 4 & 1\\\\\n",
       "\\end{tabular}\n"
      ],
      "text/markdown": [
       "\n",
       "A data.frame: 6 × 52\n",
       "\n",
       "| <!--/--> | id &lt;int&gt; | nearc2 &lt;int&gt; | nearc4 &lt;int&gt; | nearc4a &lt;int&gt; | nearc4b &lt;int&gt; | ed76 &lt;int&gt; | ed66 &lt;int&gt; | age76 &lt;int&gt; | daded &lt;dbl&gt; | nodaded &lt;int&gt; | ⋯ ⋯ | noint80 &lt;int&gt; | enroll76 &lt;int&gt; | enroll78 &lt;chr&gt; | enroll80 &lt;chr&gt; | kww &lt;chr&gt; | iq &lt;chr&gt; | marsta76 &lt;chr&gt; | marsta78 &lt;chr&gt; | marsta80 &lt;chr&gt; | libcrd14 &lt;chr&gt; |\n",
       "|---|---|---|---|---|---|---|---|---|---|---|---|---|---|---|---|---|---|---|---|---|---|\n",
       "| 1 | 2 | 0 | 0 | 0 | 0 |  7 |  5 | 29 |  9.94 | 1 | ⋯ | 0 | 0 | 0 | 0 | 15 | .   | 1 | 1 | 1 | 0 |\n",
       "| 2 | 3 | 0 | 0 | 0 | 0 | 12 | 11 | 27 |  8.00 | 0 | ⋯ | 0 | 0 | 0 | 0 | 35 | 93  | 1 | 4 | 4 | 1 |\n",
       "| 3 | 4 | 0 | 0 | 0 | 0 | 12 | 12 | 34 | 14.00 | 0 | ⋯ | 1 | 0 | . | . | 42 | 103 | 1 | . | . | 1 |\n",
       "| 4 | 5 | 1 | 1 | 1 | 0 | 11 | 11 | 27 | 11.00 | 0 | ⋯ | 0 | 0 | . | 0 | 25 | 88  | 1 | . | 5 | 1 |\n",
       "| 5 | 6 | 1 | 1 | 1 | 0 | 12 | 12 | 34 |  8.00 | 0 | ⋯ | 1 | 0 | 0 | . | 34 | 108 | 1 | 1 | . | 0 |\n",
       "| 6 | 7 | 1 | 1 | 1 | 0 | 12 | 11 | 26 |  9.00 | 0 | ⋯ | 0 | 0 | 0 | 0 | 38 | 85  | 1 | 4 | 4 | 1 |\n",
       "\n"
      ],
      "text/plain": [
       "  id nearc2 nearc4 nearc4a nearc4b ed76 ed66 age76 daded nodaded ⋯ noint80\n",
       "1 2  0      0      0       0        7    5   29     9.94 1       ⋯ 0      \n",
       "2 3  0      0      0       0       12   11   27     8.00 0       ⋯ 0      \n",
       "3 4  0      0      0       0       12   12   34    14.00 0       ⋯ 1      \n",
       "4 5  1      1      1       0       11   11   27    11.00 0       ⋯ 0      \n",
       "5 6  1      1      1       0       12   12   34     8.00 0       ⋯ 1      \n",
       "6 7  1      1      1       0       12   11   26     9.00 0       ⋯ 0      \n",
       "  enroll76 enroll78 enroll80 kww iq  marsta76 marsta78 marsta80 libcrd14\n",
       "1 0        0        0        15  .   1        1        1        0       \n",
       "2 0        0        0        35  93  1        4        4        1       \n",
       "3 0        .        .        42  103 1        .        .        1       \n",
       "4 0        .        0        25  88  1        .        5        1       \n",
       "5 0        0        .        34  108 1        1        .        0       \n",
       "6 0        0        0        38  85  1        4        4        1       "
      ]
     },
     "metadata": {},
     "output_type": "display_data"
    }
   ],
   "source": [
    "# let's have a look a the data\n",
    "head(x)"
   ]
  },
  {
   "cell_type": "code",
   "execution_count": 23,
   "metadata": {},
   "outputs": [],
   "source": [
    "x$wage76 <- as.numeric(x$wage76)\n",
    "x$lwage76 <- as.numeric(x$lwage76)\n",
    "\n",
    "x1 <- x[is.na(x$lwage76)==0,]\n",
    "x1$exp <- x1$age76 - x1$ed76 - 6\n",
    "# working years after school\n",
    "x1$exp2 <- (x1$exp^2)/100\n",
    "# experienced squared divided by 100"
   ]
  },
  {
   "cell_type": "markdown",
   "metadata": {},
   "source": [
    "## OLS estimates of return to schooling"
   ]
  },
  {
   "cell_type": "code",
   "execution_count": 24,
   "metadata": {},
   "outputs": [],
   "source": [
    "lm1 <- lm(lwage76~ed76, data = x1)\n",
    "lm2 <- lm(lwage76~ed76 + exp + exp2, data = x1)\n",
    "lm3 <- lm(lwage76~ed76 + exp + exp2 + black + reg76r, data = x1)\n",
    "lm4 <- lm(lwage76~ed76 + exp + exp2 + black + reg76r\n",
    "          + smsa76r + smsa66r + reg662 + reg663 + reg664\n",
    "          + reg665 + reg666 + reg667 + reg668 + reg669,\n",
    "          data = x1)\n",
    "# reg76 refers to living in the South in 1976\n",
    "# smsa refers whether they are urban or rural in 1976\n",
    "# reg refers to regions of the US (North, South, East, West)\n",
    "# 66 refers to 1966"
   ]
  },
  {
   "cell_type": "code",
   "execution_count": 36,
   "metadata": {},
   "outputs": [
    {
     "name": "stdout",
     "output_type": "stream",
     "text": [
      "\n",
      "===================================================\n",
      "                      Dependent variable:          \n",
      "             --------------------------------------\n",
      "                            lwage76                \n",
      "               (1)       (2)       (3)       (4)   \n",
      "---------------------------------------------------\n",
      "ed76         0.052*** 0.093***  0.078***  0.075*** \n",
      "             (0.003)   (0.004)   (0.004)   (0.003) \n",
      "                                                   \n",
      "exp                   0.090***  0.085***  0.085*** \n",
      "                       (0.007)   (0.007)   (0.007) \n",
      "                                                   \n",
      "exp2                  -0.249*** -0.234*** -0.229***\n",
      "                       (0.034)   (0.032)   (0.032) \n",
      "                                                   \n",
      "black                           -0.178*** -0.199***\n",
      "                                 (0.018)   (0.018) \n",
      "                                                   \n",
      "reg76r                          -0.150*** -0.148***\n",
      "                                 (0.015)   (0.026) \n",
      "                                                   \n",
      "smsa76r                                            \n",
      "                                                   \n",
      "                                                   \n",
      "---------------------------------------------------\n",
      "Observations  3,010     3,010     3,010     3,010  \n",
      "R2            0.099     0.196     0.265     0.300  \n",
      "===================================================\n",
      "Note:                   *p<0.1; **p<0.05; ***p<0.01\n"
     ]
    }
   ],
   "source": [
    "# presenting regression results\n",
    "stargazer(list(lm1, lm2, lm3, lm4),\n",
    "         keep.stat = c(\"n\", \"rsq\"),\n",
    "         float = FALSE, font.size = \"small\", digits = 3,\n",
    "         keep = c(1:6), type=\"text\")"
   ]
  },
  {
   "cell_type": "markdown",
   "metadata": {},
   "source": [
    "## Simulation of dual path model"
   ]
  },
  {
   "cell_type": "code",
   "execution_count": 39,
   "metadata": {},
   "outputs": [],
   "source": [
    "set.seed(123456789)\n",
    "N <- 50\n",
    "a <- 1\n",
    "b <- 0\n",
    "c <- 3\n",
    "d <- 4\n",
    "x <- round(runif(N)) # creates a vector of 0s and 1s\n",
    "u_w <- runif(N)\n",
    "w <- d*x + u_w\n",
    "u <- rnorm(N)\n",
    "y <- a + b*x + c*w + u"
   ]
  },
  {
   "cell_type": "code",
   "execution_count": 51,
   "metadata": {},
   "outputs": [
    {
     "data": {
      "text/html": [
       "<table>\n",
       "<caption>A xtable: 2 × 4</caption>\n",
       "<thead>\n",
       "\t<tr><th></th><th scope=col>Estimate</th><th scope=col>Std. Error</th><th scope=col>t value</th><th scope=col>Pr(&gt;|t|)</th></tr>\n",
       "\t<tr><th></th><th scope=col>&lt;dbl&gt;</th><th scope=col>&lt;dbl&gt;</th><th scope=col>&lt;dbl&gt;</th><th scope=col>&lt;dbl&gt;</th></tr>\n",
       "</thead>\n",
       "<tbody>\n",
       "\t<tr><th scope=row>(Intercept)</th><td> 2.586659</td><td>0.2977401</td><td> 8.687639</td><td>2.053368e-11</td></tr>\n",
       "\t<tr><th scope=row>x</th><td>12.240605</td><td>0.4128912</td><td>29.646076</td><td>1.626472e-32</td></tr>\n",
       "</tbody>\n",
       "</table>\n"
      ],
      "text/latex": [
       "A xtable: 2 × 4\n",
       "\\begin{tabular}{r|llll}\n",
       "  & Estimate & Std. Error & t value & Pr(>\\textbar{}t\\textbar{})\\\\\n",
       "  & <dbl> & <dbl> & <dbl> & <dbl>\\\\\n",
       "\\hline\n",
       "\t(Intercept) &  2.586659 & 0.2977401 &  8.687639 & 2.053368e-11\\\\\n",
       "\tx & 12.240605 & 0.4128912 & 29.646076 & 1.626472e-32\\\\\n",
       "\\end{tabular}\n"
      ],
      "text/markdown": [
       "\n",
       "A xtable: 2 × 4\n",
       "\n",
       "| <!--/--> | Estimate &lt;dbl&gt; | Std. Error &lt;dbl&gt; | t value &lt;dbl&gt; | Pr(&gt;|t|) &lt;dbl&gt; |\n",
       "|---|---|---|---|---|\n",
       "| (Intercept) |  2.586659 | 0.2977401 |  8.687639 | 2.053368e-11 |\n",
       "| x | 12.240605 | 0.4128912 | 29.646076 | 1.626472e-32 |\n",
       "\n"
      ],
      "text/plain": [
       "            Estimate  Std. Error t value   Pr(>|t|)    \n",
       "(Intercept)  2.586659 0.2977401   8.687639 2.053368e-11\n",
       "x           12.240605 0.4128912  29.646076 1.626472e-32"
      ]
     },
     "metadata": {},
     "output_type": "display_data"
    }
   ],
   "source": [
    "require(xtable)\n",
    "# results for a short regression\n",
    "lm1 <- lm(y~x)\n",
    "xtable(summary(lm1))"
   ]
  },
  {
   "cell_type": "code",
   "execution_count": 79,
   "metadata": {},
   "outputs": [
    {
     "data": {
      "text/html": [
       "<table>\n",
       "<caption>A xtable: 3 × 4</caption>\n",
       "<thead>\n",
       "\t<tr><th></th><th scope=col>Estimate</th><th scope=col>Std. Error</th><th scope=col>t value</th><th scope=col>Pr(&gt;|t|)</th></tr>\n",
       "\t<tr><th></th><th scope=col>&lt;dbl&gt;</th><th scope=col>&lt;dbl&gt;</th><th scope=col>&lt;dbl&gt;</th><th scope=col>&lt;dbl&gt;</th></tr>\n",
       "</thead>\n",
       "<tbody>\n",
       "\t<tr><th scope=row>(Intercept)</th><td> 0.5644028</td><td>0.2811701</td><td> 2.007336</td><td>5.048349e-02</td></tr>\n",
       "\t<tr><th scope=row>x</th><td>-5.1480643</td><td>1.8846525</td><td>-2.731572</td><td>8.849763e-03</td></tr>\n",
       "\t<tr><th scope=row>w</th><td> 4.2854065</td><td>0.4604478</td><td> 9.307042</td><td>3.085038e-12</td></tr>\n",
       "</tbody>\n",
       "</table>\n"
      ],
      "text/latex": [
       "A xtable: 3 × 4\n",
       "\\begin{tabular}{r|llll}\n",
       "  & Estimate & Std. Error & t value & Pr(>\\textbar{}t\\textbar{})\\\\\n",
       "  & <dbl> & <dbl> & <dbl> & <dbl>\\\\\n",
       "\\hline\n",
       "\t(Intercept) &  0.5644028 & 0.2811701 &  2.007336 & 5.048349e-02\\\\\n",
       "\tx & -5.1480643 & 1.8846525 & -2.731572 & 8.849763e-03\\\\\n",
       "\tw &  4.2854065 & 0.4604478 &  9.307042 & 3.085038e-12\\\\\n",
       "\\end{tabular}\n"
      ],
      "text/markdown": [
       "\n",
       "A xtable: 3 × 4\n",
       "\n",
       "| <!--/--> | Estimate &lt;dbl&gt; | Std. Error &lt;dbl&gt; | t value &lt;dbl&gt; | Pr(&gt;|t|) &lt;dbl&gt; |\n",
       "|---|---|---|---|---|\n",
       "| (Intercept) |  0.5644028 | 0.2811701 |  2.007336 | 5.048349e-02 |\n",
       "| x | -5.1480643 | 1.8846525 | -2.731572 | 8.849763e-03 |\n",
       "| w |  4.2854065 | 0.4604478 |  9.307042 | 3.085038e-12 |\n",
       "\n"
      ],
      "text/plain": [
       "            Estimate   Std. Error t value   Pr(>|t|)    \n",
       "(Intercept)  0.5644028 0.2811701   2.007336 5.048349e-02\n",
       "x           -5.1480643 1.8846525  -2.731572 8.849763e-03\n",
       "w            4.2854065 0.4604478   9.307042 3.085038e-12"
      ]
     },
     "metadata": {},
     "output_type": "display_data"
    }
   ],
   "source": [
    "library(IRdisplay)\n",
    "lm2 <- lm(y~x + w)\n",
    "\n",
    "# results for a long regression\n",
    "display(xtable(summary(lm2)))"
   ]
  },
  {
   "cell_type": "code",
   "execution_count": 74,
   "metadata": {},
   "outputs": [
    {
     "name": "stdout",
     "output_type": "stream",
     "text": [
      "% latex table generated in R 4.0.0 by xtable 1.8-4 package\n",
      "% Sun Feb  7 22:13:03 2021\n",
      "\\begin{table}[ht]\n",
      "\\centering\n",
      "\\begin{tabular}{rrrrr}\n",
      "  \\hline\n",
      " & Estimate & Std. Error & t value & Pr($>$$|$t$|$) \\\\ \n",
      "  \\hline\n",
      "(Intercept) & 0.5644 & 0.2812 & 2.01 & 0.0505 \\\\ \n",
      "  x & -5.1481 & 1.8847 & -2.73 & 0.0088 \\\\ \n",
      "  w & 4.2854 & 0.4604 & 9.31 & 0.0000 \\\\ \n",
      "   \\hline\n",
      "\\end{tabular}\n",
      "\\end{table}\n"
     ]
    }
   ],
   "source": [
    "# in case we want the LATEX output\n",
    "# for a nice table\n",
    "print(xtable(lm2, type = \"latex\"))"
   ]
  },
  {
   "cell_type": "code",
   "execution_count": 83,
   "metadata": {},
   "outputs": [
    {
     "data": {
      "text/html": [
       "<strong>x:</strong> -0.0887603854359718"
      ],
      "text/latex": [
       "\\textbf{x:} -0.0887603854359718"
      ],
      "text/markdown": [
       "**x:** -0.0887603854359718"
      ],
      "text/plain": [
       "          x \n",
       "-0.08876039 "
      ]
     },
     "metadata": {},
     "output_type": "display_data"
    }
   ],
   "source": [
    "e_hat <- lm(y~x)$coef[2]\n",
    "# Coeff 2 is the slope of the element of interest\n",
    "c_hat <- lm(y~w)$coef[2]\n",
    "d_hat <- lm(w~x)$coef[2]\n",
    "\n",
    "# estimate of b\n",
    "e_hat - c_hat*d_hat"
   ]
  },
  {
   "cell_type": "markdown",
   "metadata": {},
   "source": [
    "## Dual path estimator vs long regression"
   ]
  },
  {
   "cell_type": "code",
   "execution_count": 87,
   "metadata": {},
   "outputs": [],
   "source": [
    "set.seed(123456789)\n",
    "b_mat <- matrix(NA, 100, 3)\n",
    "for (i in 1:100){\n",
    "    x <- round(runif(N))\n",
    "    u_w <- runif(N)\n",
    "    w <- d*x + u_w\n",
    "    u <- rnorm(N)\n",
    "    y <- a + b*x + c*w + u\n",
    "    lm2_temp <- summary(lm(y~x+w))\n",
    "    b_mat[i,1] <- lm2_temp[[4]][2]\n",
    "    # the fourth element in the list is the result vector\n",
    "    # the second item of that vector is the coefficient on x\n",
    "    b_mat[i,2] <- lm2_temp[[4]][8]\n",
    "    # the 8th item is the T-stat on the coefficient on x\n",
    "    e_hat <- lm(y~x)$coef[2]\n",
    "    c_hat <- lm(y~w)$coef[2]\n",
    "    d_hat <- lm(w~x)$coef[2]\n",
    "    b_mat[i,3] <- e_hat - c_hat*d_hat\n",
    "}"
   ]
  },
  {
   "cell_type": "code",
   "execution_count": 89,
   "metadata": {},
   "outputs": [
    {
     "data": {
      "text/html": [
       "<table>\n",
       "<caption>A xtable: 6 × 3</caption>\n",
       "<thead>\n",
       "\t<tr><th></th><th scope=col>Standard Est.</th><th scope=col>T-Stat of Standard</th><th scope=col>Proposed Est.</th></tr>\n",
       "\t<tr><th></th><th scope=col>&lt;chr&gt;</th><th scope=col>&lt;chr&gt;</th><th scope=col>&lt;chr&gt;</th></tr>\n",
       "</thead>\n",
       "<tbody>\n",
       "\t<tr><th scope=row>X</th><td>Min.   :-5.1481  </td><td>Min.   :-3.02921  </td><td>Min.   :-0.119608  </td></tr>\n",
       "\t<tr><th scope=row>X.1</th><td>1st Qu.:-1.6962  </td><td>1st Qu.:-0.80145  </td><td>1st Qu.:-0.031123  </td></tr>\n",
       "\t<tr><th scope=row>X.2</th><td>Median :-0.3789  </td><td>Median :-0.19538  </td><td>Median :-0.008578  </td></tr>\n",
       "\t<tr><th scope=row>X.3</th><td>Mean   :-0.1291  </td><td>Mean   :-0.07418  </td><td>Mean   :-0.002654  </td></tr>\n",
       "\t<tr><th scope=row>X.4</th><td>3rd Qu.: 1.3894  </td><td>3rd Qu.: 0.74051  </td><td>3rd Qu.: 0.030679  </td></tr>\n",
       "\t<tr><th scope=row>X.5</th><td>Max.   : 6.5594  </td><td>Max.   : 2.68061  </td><td>Max.   : 0.104119  </td></tr>\n",
       "</tbody>\n",
       "</table>\n"
      ],
      "text/latex": [
       "A xtable: 6 × 3\n",
       "\\begin{tabular}{r|lll}\n",
       "  & Standard Est. & T-Stat of Standard & Proposed Est.\\\\\n",
       "  & <chr> & <chr> & <chr>\\\\\n",
       "\\hline\n",
       "\tX & Min.   :-5.1481   & Min.   :-3.02921   & Min.   :-0.119608  \\\\\n",
       "\tX.1 & 1st Qu.:-1.6962   & 1st Qu.:-0.80145   & 1st Qu.:-0.031123  \\\\\n",
       "\tX.2 & Median :-0.3789   & Median :-0.19538   & Median :-0.008578  \\\\\n",
       "\tX.3 & Mean   :-0.1291   & Mean   :-0.07418   & Mean   :-0.002654  \\\\\n",
       "\tX.4 & 3rd Qu.: 1.3894   & 3rd Qu.: 0.74051   & 3rd Qu.: 0.030679  \\\\\n",
       "\tX.5 & Max.   : 6.5594   & Max.   : 2.68061   & Max.   : 0.104119  \\\\\n",
       "\\end{tabular}\n"
      ],
      "text/markdown": [
       "\n",
       "A xtable: 6 × 3\n",
       "\n",
       "| <!--/--> | Standard Est. &lt;chr&gt; | T-Stat of Standard &lt;chr&gt; | Proposed Est. &lt;chr&gt; |\n",
       "|---|---|---|---|\n",
       "| X | Min.   :-5.1481   | Min.   :-3.02921   | Min.   :-0.119608   |\n",
       "| X.1 | 1st Qu.:-1.6962   | 1st Qu.:-0.80145   | 1st Qu.:-0.031123   |\n",
       "| X.2 | Median :-0.3789   | Median :-0.19538   | Median :-0.008578   |\n",
       "| X.3 | Mean   :-0.1291   | Mean   :-0.07418   | Mean   :-0.002654   |\n",
       "| X.4 | 3rd Qu.: 1.3894   | 3rd Qu.: 0.74051   | 3rd Qu.: 0.030679   |\n",
       "| X.5 | Max.   : 6.5594   | Max.   : 2.68061   | Max.   : 0.104119   |\n",
       "\n"
      ],
      "text/plain": [
       "    Standard Est.     T-Stat of Standard Proposed Est.      \n",
       "X   Min.   :-5.1481   Min.   :-3.02921   Min.   :-0.119608  \n",
       "X.1 1st Qu.:-1.6962   1st Qu.:-0.80145   1st Qu.:-0.031123  \n",
       "X.2 Median :-0.3789   Median :-0.19538   Median :-0.008578  \n",
       "X.3 Mean   :-0.1291   Mean   :-0.07418   Mean   :-0.002654  \n",
       "X.4 3rd Qu.: 1.3894   3rd Qu.: 0.74051   3rd Qu.: 0.030679  \n",
       "X.5 Max.   : 6.5594   Max.   : 2.68061   Max.   : 0.104119  "
      ]
     },
     "metadata": {},
     "output_type": "display_data"
    }
   ],
   "source": [
    "colnames(b_mat) <- c(\"Standard Est.\", \"T-Stat of Standard\", \"Proposed Est.\")\n",
    "summ_tab <- summary(b_mat)\n",
    "row_names <- NULL\n",
    "display(xtable(summ_tab, floating = FALSE))"
   ]
  },
  {
   "cell_type": "code",
   "execution_count": null,
   "metadata": {},
   "outputs": [],
   "source": []
  }
 ],
 "metadata": {
  "kernelspec": {
   "display_name": "R",
   "language": "R",
   "name": "ir"
  },
  "language_info": {
   "codemirror_mode": "r",
   "file_extension": ".r",
   "mimetype": "text/x-r-source",
   "name": "R",
   "pygments_lexer": "r",
   "version": "4.0.0"
  },
  "toc": {
   "base_numbering": 1,
   "nav_menu": {},
   "number_sections": true,
   "sideBar": true,
   "skip_h1_title": true,
   "title_cell": "Table of Contents",
   "title_sidebar": "Contents",
   "toc_cell": true,
   "toc_position": {},
   "toc_section_display": true,
   "toc_window_display": true
  },
  "varInspector": {
   "cols": {
    "lenName": 16,
    "lenType": 16,
    "lenVar": 40
   },
   "kernels_config": {
    "python": {
     "delete_cmd_postfix": "",
     "delete_cmd_prefix": "del ",
     "library": "var_list.py",
     "varRefreshCmd": "print(var_dic_list())"
    },
    "r": {
     "delete_cmd_postfix": ") ",
     "delete_cmd_prefix": "rm(",
     "library": "var_list.r",
     "varRefreshCmd": "cat(var_dic_list()) "
    }
   },
   "position": {
    "height": "610px",
    "left": "890px",
    "right": "20px",
    "top": "55px",
    "width": "458px"
   },
   "types_to_exclude": [
    "module",
    "function",
    "builtin_function_or_method",
    "instance",
    "_Feature"
   ],
   "window_display": false
  }
 },
 "nbformat": 4,
 "nbformat_minor": 4
}
